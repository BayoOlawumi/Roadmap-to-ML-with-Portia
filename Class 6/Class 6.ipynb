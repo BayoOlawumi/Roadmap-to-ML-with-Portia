{
 "cells": [
  {
   "cell_type": "markdown",
   "id": "fb4af770-4632-43ab-9c6c-7aa0f3d41777",
   "metadata": {},
   "source": [
    "### String Concatenation"
   ]
  },
  {
   "cell_type": "code",
   "execution_count": 1,
   "id": "b24be318-c393-47a1-9cd4-6bcbea0fd9dd",
   "metadata": {},
   "outputs": [],
   "source": [
    "## addition\n",
    "## subtraction"
   ]
  },
  {
   "cell_type": "code",
   "execution_count": 2,
   "id": "86675aec-b383-439c-8a35-e3f7109af1f8",
   "metadata": {},
   "outputs": [],
   "source": [
    "a = 40\n",
    "b = 70"
   ]
  },
  {
   "cell_type": "code",
   "execution_count": 3,
   "id": "32ce5247-9e53-4f1c-b343-860f1a03af70",
   "metadata": {},
   "outputs": [],
   "source": [
    "c = a + b"
   ]
  },
  {
   "cell_type": "code",
   "execution_count": 4,
   "id": "dbe84409-0c16-4c42-9237-d45475ec53ad",
   "metadata": {},
   "outputs": [
    {
     "name": "stdout",
     "output_type": "stream",
     "text": [
      "110\n"
     ]
    }
   ],
   "source": [
    "print(c)"
   ]
  },
  {
   "cell_type": "code",
   "execution_count": 5,
   "id": "40af6fe4-3b6a-45ec-b7a1-2b32028654de",
   "metadata": {},
   "outputs": [],
   "source": [
    "d =  a - b"
   ]
  },
  {
   "cell_type": "code",
   "execution_count": 7,
   "id": "f39fd3a4-99c3-4e4e-b6bb-a2a8ddb6318f",
   "metadata": {},
   "outputs": [
    {
     "name": "stdout",
     "output_type": "stream",
     "text": [
      "-30\n"
     ]
    }
   ],
   "source": [
    "print(d)"
   ]
  },
  {
   "cell_type": "code",
   "execution_count": 8,
   "id": "6bd1986a-0269-499d-9a98-61361d336d90",
   "metadata": {},
   "outputs": [],
   "source": [
    "### string concatenation"
   ]
  },
  {
   "cell_type": "code",
   "execution_count": 18,
   "id": "8d21d994-2f2f-4df6-bb2a-ec4987968d8a",
   "metadata": {},
   "outputs": [],
   "source": [
    "first_name = \"Bayo\"\n",
    "last_name = \"Olawumi\"\n",
    "\n",
    "full_name = first_name + \" \" + last_name"
   ]
  },
  {
   "cell_type": "code",
   "execution_count": 19,
   "id": "018298e7-c7d8-4cc6-b14e-4200d522a53e",
   "metadata": {},
   "outputs": [
    {
     "name": "stdout",
     "output_type": "stream",
     "text": [
      "Bayo Olawumi\n"
     ]
    }
   ],
   "source": [
    "print(full_name)"
   ]
  },
  {
   "cell_type": "code",
   "execution_count": 20,
   "id": "ed5f4202-a460-4ba3-831a-54b348ca9ea6",
   "metadata": {},
   "outputs": [
    {
     "name": "stdout",
     "output_type": "stream",
     "text": [
      "A.B. Kolawole\n"
     ]
    }
   ],
   "source": [
    "first_initial = 'A'\n",
    "second_initial = 'B'\n",
    "lastname = \"Kolawole\"\n",
    "\n",
    "surname_et_initials = first_initial + \".\" + second_initial + \". \" + lastname\n",
    "\n",
    "print(surname_et_initials)"
   ]
  },
  {
   "cell_type": "code",
   "execution_count": 27,
   "id": "b54161df-938f-4618-8fc6-d9add9e2b4bf",
   "metadata": {},
   "outputs": [
    {
     "name": "stdout",
     "output_type": "stream",
     "text": [
      "6\n",
      "7\n",
      "8\n",
      "9\n",
      "10\n",
      "11\n",
      "12\n",
      "13\n",
      "14\n"
     ]
    }
   ],
   "source": [
    "## Iteration over numbers using for-loop\n",
    "for each_num in range(1, 10):\n",
    "    new_number = each_num + 5\n",
    "    print(new_number)"
   ]
  },
  {
   "cell_type": "code",
   "execution_count": 25,
   "id": "32b2e5e8-973b-41cc-bc69-d446ba6d11d4",
   "metadata": {},
   "outputs": [
    {
     "name": "stdout",
     "output_type": "stream",
     "text": [
      "rice\n",
      "beans\n",
      "yam\n"
     ]
    }
   ],
   "source": [
    "## Iteration over a list of item\n",
    "fav_foods = [\"rice\", \"beans\", \"yam\"]\n",
    "for each_food in fav_foods:\n",
    "    print(each_food)"
   ]
  },
  {
   "cell_type": "code",
   "execution_count": 29,
   "id": "7f161e84-fc10-46a5-9a44-5ffe87ad1ed6",
   "metadata": {},
   "outputs": [
    {
     "name": "stdout",
     "output_type": "stream",
     "text": [
      "By\n",
      "ay\n",
      "yy\n",
      "oy\n"
     ]
    }
   ],
   "source": [
    "### We can also iterate through each charaacter in a string\n",
    "lastname = \"Bayo\"\n",
    "\n",
    "for a in lastname:\n",
    "    print(a+\"y\")\n"
   ]
  },
  {
   "cell_type": "code",
   "execution_count": 33,
   "id": "e4bacbfa-48d0-4ded-8dc8-072ddcd2a24a",
   "metadata": {},
   "outputs": [
    {
     "name": "stdout",
     "output_type": "stream",
     "text": [
      "Scam Alert\n",
      "Scam Alert\n"
     ]
    }
   ],
   "source": [
    "### Task: Check for the presence of a character in a string\n",
    "name = \"Bayoai\"\n",
    "\n",
    "for each_char in name:\n",
    "    if each_char == 'a':\n",
    "        print(\"Scam Alert\")"
   ]
  },
  {
   "cell_type": "code",
   "execution_count": 34,
   "id": "29ea0c75-9486-413e-a955-909758c122ca",
   "metadata": {},
   "outputs": [
    {
     "data": {
      "text/plain": [
       "'Portie'"
      ]
     },
     "execution_count": 34,
     "metadata": {},
     "output_type": "execute_result"
    }
   ],
   "source": [
    "name = \"Portia\"\n",
    "name.replace(\"a\", \"e\")"
   ]
  },
  {
   "cell_type": "code",
   "execution_count": 38,
   "id": "d6fdd633-7dd1-4006-94de-ff7b59bdd105",
   "metadata": {},
   "outputs": [
    {
     "name": "stdout",
     "output_type": "stream",
     "text": [
      "Portie\n"
     ]
    }
   ],
   "source": [
    "name = \"Portia\"\n",
    "new_name = \"\"\n",
    "for each_char in name:\n",
    "    if each_char == \"a\":\n",
    "        each_char = \"e\"\n",
    "    \n",
    "    new_name = new_name + each_char\n",
    "\n",
    "print(new_name)    "
   ]
  },
  {
   "cell_type": "code",
   "execution_count": 35,
   "id": "f2664ee0-7c63-408f-aa9b-17b30cc95466",
   "metadata": {},
   "outputs": [
    {
     "name": "stdout",
     "output_type": "stream",
     "text": [
      "\n"
     ]
    }
   ],
   "source": [
    "n = \"\"\n",
    "print(n)"
   ]
  },
  {
   "cell_type": "code",
   "execution_count": 39,
   "id": "6771448a-9620-4c76-84d2-e23f08296f32",
   "metadata": {},
   "outputs": [],
   "source": [
    "name = \"Joseph\"\n"
   ]
  },
  {
   "cell_type": "code",
   "execution_count": 40,
   "id": "83a3a2b9-29be-424b-a2c0-4f2e180aa11f",
   "metadata": {},
   "outputs": [
    {
     "data": {
      "text/plain": [
       "'JOSEPH'"
      ]
     },
     "execution_count": 40,
     "metadata": {},
     "output_type": "execute_result"
    }
   ],
   "source": [
    "name.upper()"
   ]
  },
  {
   "cell_type": "code",
   "execution_count": 41,
   "id": "23b7ceb0-c2ed-4bcd-95f8-528f4031aa7c",
   "metadata": {},
   "outputs": [
    {
     "data": {
      "text/plain": [
       "'joseph'"
      ]
     },
     "execution_count": 41,
     "metadata": {},
     "output_type": "execute_result"
    }
   ],
   "source": [
    "name.lower()"
   ]
  },
  {
   "cell_type": "code",
   "execution_count": 42,
   "id": "e5d4045d-4093-4815-9cd2-c95ecbcedcf4",
   "metadata": {},
   "outputs": [
    {
     "data": {
      "text/plain": [
       "'Jgseph'"
      ]
     },
     "execution_count": 42,
     "metadata": {},
     "output_type": "execute_result"
    }
   ],
   "source": [
    "name.replace(\"o\", \"g\")"
   ]
  },
  {
   "cell_type": "code",
   "execution_count": 43,
   "id": "b8b5af5d-668a-4052-90ca-bcac34aa581f",
   "metadata": {},
   "outputs": [
    {
     "data": {
      "text/plain": [
       "6"
      ]
     },
     "execution_count": 43,
     "metadata": {},
     "output_type": "execute_result"
    }
   ],
   "source": [
    "len(name)"
   ]
  },
  {
   "cell_type": "code",
   "execution_count": 45,
   "id": "71f53187-3ce1-4aa2-a248-be156c16de41",
   "metadata": {},
   "outputs": [
    {
     "data": {
      "text/plain": [
       "1"
      ]
     },
     "execution_count": 45,
     "metadata": {},
     "output_type": "execute_result"
    }
   ],
   "source": [
    "name.count(\"s\")"
   ]
  },
  {
   "cell_type": "code",
   "execution_count": 46,
   "id": "648d893f-6d7d-46c1-a723-0c6e3612c646",
   "metadata": {},
   "outputs": [],
   "source": [
    "sample = \"a\""
   ]
  },
  {
   "cell_type": "code",
   "execution_count": 47,
   "id": "40bb08cb-107b-414d-af4f-9cedf93d8f57",
   "metadata": {},
   "outputs": [
    {
     "data": {
      "text/plain": [
       "False"
      ]
     },
     "execution_count": 47,
     "metadata": {},
     "output_type": "execute_result"
    }
   ],
   "source": [
    "a.isdigit()"
   ]
  },
  {
   "cell_type": "code",
   "execution_count": 48,
   "id": "6fbf6a94-e863-4f7d-b4b8-3ec5145dc77e",
   "metadata": {},
   "outputs": [
    {
     "data": {
      "text/plain": [
       "True"
      ]
     },
     "execution_count": 48,
     "metadata": {},
     "output_type": "execute_result"
    }
   ],
   "source": [
    "a.islower()"
   ]
  },
  {
   "cell_type": "code",
   "execution_count": 50,
   "id": "d85ba005-6a04-46f4-88fb-bb04641f8c6f",
   "metadata": {},
   "outputs": [
    {
     "data": {
      "text/plain": [
       "False"
      ]
     },
     "execution_count": 50,
     "metadata": {},
     "output_type": "execute_result"
    }
   ],
   "source": [
    "name.endswith(\"i\")"
   ]
  },
  {
   "cell_type": "code",
   "execution_count": 51,
   "id": "198c8298-74ef-4077-91cd-be943a134094",
   "metadata": {},
   "outputs": [
    {
     "data": {
      "text/plain": [
       "'Joseph'"
      ]
     },
     "execution_count": 51,
     "metadata": {},
     "output_type": "execute_result"
    }
   ],
   "source": [
    "name.capitalize()"
   ]
  },
  {
   "cell_type": "code",
   "execution_count": 56,
   "id": "f3e738f5-0365-4ad2-b00c-bb969ce8b9dd",
   "metadata": {},
   "outputs": [
    {
     "data": {
      "text/plain": [
       "'rrrrrJosephrrrr'"
      ]
     },
     "execution_count": 56,
     "metadata": {},
     "output_type": "execute_result"
    }
   ],
   "source": [
    "name.center(15, 'r')"
   ]
  },
  {
   "cell_type": "code",
   "execution_count": null,
   "id": "19dd94ff-81b1-462e-8b5e-362424f560b5",
   "metadata": {},
   "outputs": [],
   "source": []
  },
  {
   "cell_type": "markdown",
   "id": "85e5c3f9-a1ad-4cdf-af05-c473d6d40dea",
   "metadata": {},
   "source": [
    "### F-Strings, Placeholders and Modifiers"
   ]
  },
  {
   "cell_type": "code",
   "execution_count": 64,
   "id": "e9958561-2d5c-4483-8ef0-d8188ee8fbc9",
   "metadata": {},
   "outputs": [
    {
     "name": "stdout",
     "output_type": "stream",
     "text": [
      "Portia\n"
     ]
    }
   ],
   "source": [
    "name = \"Portia\"\n",
    "location = \"Australia\"\n",
    "height = 11.89\n",
    "print(name)"
   ]
  },
  {
   "cell_type": "code",
   "execution_count": 59,
   "id": "f4e551b1-da1a-41dd-8a30-804919aa6c46",
   "metadata": {},
   "outputs": [
    {
     "name": "stdout",
     "output_type": "stream",
     "text": [
      "My name is Portia\n"
     ]
    }
   ],
   "source": [
    "print(\"My name is\", name)"
   ]
  },
  {
   "cell_type": "code",
   "execution_count": 61,
   "id": "ffc7b1af-28d6-44d0-977a-4b940e04e228",
   "metadata": {},
   "outputs": [
    {
     "name": "stdout",
     "output_type": "stream",
     "text": [
      "My name is  Portia  and I live in Australia\n"
     ]
    }
   ],
   "source": [
    "print(\"My name is \", name, \" and\", \"I live in\", location)"
   ]
  },
  {
   "cell_type": "code",
   "execution_count": 66,
   "id": "736e73ed-42ef-48b1-bc6e-ce1b1a29c16e",
   "metadata": {},
   "outputs": [
    {
     "name": "stdout",
     "output_type": "stream",
     "text": [
      "My name is Portia. I live in Australia and I am 11.9 feet tall\n"
     ]
    }
   ],
   "source": [
    "print(f\"My name is {name}. I live in {location} and I am {height:.1f} feet tall\")"
   ]
  },
  {
   "cell_type": "code",
   "execution_count": 69,
   "id": "3bc7fad2-c066-4c7a-be58-fb9b2f3f3fc9",
   "metadata": {},
   "outputs": [
    {
     "name": "stdout",
     "output_type": "stream",
     "text": [
      "My name is Portia. I live in Australia and I am 23.8 feet tall\n"
     ]
    }
   ],
   "source": [
    "print(f\"My name is {name}. I live in {location} and I am {height*2:.1f} feet tall\")"
   ]
  },
  {
   "cell_type": "code",
   "execution_count": 67,
   "id": "82494025-ece6-4c4a-95c2-36c399a94ad2",
   "metadata": {},
   "outputs": [
    {
     "name": "stdout",
     "output_type": "stream",
     "text": [
      "11.89\n"
     ]
    }
   ],
   "source": [
    "print(height)"
   ]
  },
  {
   "cell_type": "code",
   "execution_count": 72,
   "id": "24739f8e-4622-427f-856e-9069ad9f276f",
   "metadata": {},
   "outputs": [
    {
     "name": "stdout",
     "output_type": "stream",
     "text": [
      "The sum of 23 and 78 is 101\n"
     ]
    }
   ],
   "source": [
    "first_number = 23\n",
    "second_number = 78\n",
    "\n",
    "print(f\"The sum of {first_number} and {second_number} is {first_number+second_number}\")"
   ]
  },
  {
   "cell_type": "markdown",
   "id": "e85682fa-2009-446b-b4d3-70bc6620540a",
   "metadata": {},
   "source": [
    "### List"
   ]
  },
  {
   "cell_type": "code",
   "execution_count": 75,
   "id": "9924b067-958b-4e36-98c3-008c6aa3dc4c",
   "metadata": {},
   "outputs": [],
   "source": [
    "fav_foods = [\"yam\", \"beans\", \"potato\", \"potato\"]\n",
    "items = [2, 4, 5.67, 9, \"Bayo\"]"
   ]
  },
  {
   "cell_type": "code",
   "execution_count": 76,
   "id": "9927f827-4ffb-4685-9812-6f8b628c829c",
   "metadata": {},
   "outputs": [
    {
     "data": {
      "text/plain": [
       "[2, 4, 5.67, 9, 'Bayo']"
      ]
     },
     "execution_count": 76,
     "metadata": {},
     "output_type": "execute_result"
    }
   ],
   "source": [
    "items"
   ]
  },
  {
   "cell_type": "markdown",
   "id": "165b1ef1-2420-4ca3-80e9-48bea25cb26b",
   "metadata": {},
   "source": [
    "*Indexing*"
   ]
  },
  {
   "cell_type": "code",
   "execution_count": 77,
   "id": "2cb2f465-0699-4415-b6a8-ed07a27b7bab",
   "metadata": {},
   "outputs": [
    {
     "data": {
      "text/plain": [
       "2"
      ]
     },
     "execution_count": 77,
     "metadata": {},
     "output_type": "execute_result"
    }
   ],
   "source": [
    "items[0]"
   ]
  },
  {
   "cell_type": "code",
   "execution_count": 78,
   "id": "3449951a-183a-427f-9f7d-35e784dbdcb6",
   "metadata": {},
   "outputs": [
    {
     "data": {
      "text/plain": [
       "'Bayo'"
      ]
     },
     "execution_count": 78,
     "metadata": {},
     "output_type": "execute_result"
    }
   ],
   "source": [
    "items[-1]"
   ]
  },
  {
   "cell_type": "markdown",
   "id": "f312838e-8b18-43fd-b2db-4df87db683ff",
   "metadata": {},
   "source": [
    "**Methods in List**"
   ]
  },
  {
   "cell_type": "code",
   "execution_count": 79,
   "id": "9dbdb29d-e1e9-4a3f-9d66-0b70e70fe7bf",
   "metadata": {},
   "outputs": [
    {
     "data": {
      "text/plain": [
       "5"
      ]
     },
     "execution_count": 79,
     "metadata": {},
     "output_type": "execute_result"
    }
   ],
   "source": [
    "len(items)"
   ]
  },
  {
   "cell_type": "code",
   "execution_count": 80,
   "id": "4fab0fc0-becb-43d5-9e5f-70b2f8263c7f",
   "metadata": {},
   "outputs": [],
   "source": [
    "## append\n",
    "items.append(\"rice\")"
   ]
  },
  {
   "cell_type": "code",
   "execution_count": 81,
   "id": "3704a61b-ac4e-4f61-aa65-d1164b356bfb",
   "metadata": {},
   "outputs": [
    {
     "data": {
      "text/plain": [
       "[2, 4, 5.67, 9, 'Bayo', 'rice']"
      ]
     },
     "execution_count": 81,
     "metadata": {},
     "output_type": "execute_result"
    }
   ],
   "source": [
    "items"
   ]
  },
  {
   "cell_type": "code",
   "execution_count": 82,
   "id": "c2147fd2-a384-4a6c-ae42-3b555b49d423",
   "metadata": {},
   "outputs": [],
   "source": [
    "new_list = [\"curry\", \"maggi\"]"
   ]
  },
  {
   "cell_type": "code",
   "execution_count": 83,
   "id": "0465953c-5c59-486d-a0c1-033f824cd7e4",
   "metadata": {},
   "outputs": [],
   "source": [
    "# extend\n",
    "items.extend(new_list)"
   ]
  },
  {
   "cell_type": "code",
   "execution_count": 90,
   "id": "1b9aefb6-fc73-4ee4-8137-f51bb15f735b",
   "metadata": {},
   "outputs": [
    {
     "data": {
      "text/plain": [
       "[2, 4, 5.67, 9, 'Bayo', 'rice', 'curry', 'maggi']"
      ]
     },
     "execution_count": 90,
     "metadata": {},
     "output_type": "execute_result"
    }
   ],
   "source": [
    "items"
   ]
  },
  {
   "cell_type": "code",
   "execution_count": 91,
   "id": "62901b5d-beb7-4d33-b898-95e11aa4f8bd",
   "metadata": {},
   "outputs": [],
   "source": [
    "items.reverse()"
   ]
  },
  {
   "cell_type": "code",
   "execution_count": 92,
   "id": "6a274976-dbae-4d16-9e1f-3827fa310ecd",
   "metadata": {},
   "outputs": [
    {
     "data": {
      "text/plain": [
       "['maggi', 'curry', 'rice', 'Bayo', 9, 5.67, 4, 2]"
      ]
     },
     "execution_count": 92,
     "metadata": {},
     "output_type": "execute_result"
    }
   ],
   "source": [
    "items"
   ]
  },
  {
   "cell_type": "code",
   "execution_count": null,
   "id": "af0c63a5-6d2c-44cf-8a70-18612d9c84f8",
   "metadata": {},
   "outputs": [],
   "source": []
  },
  {
   "cell_type": "markdown",
   "id": "e14fb128-993e-4f86-9112-dae46f9f42de",
   "metadata": {},
   "source": [
    "#### Assignment\n",
    "1. *Collect a user's firstname and lastname. Generate a nickname for him or her from the names supplied using python*\n",
    "2. *Collect the desired nickname of a user. Write a project to reject his or her nickname if it does not have a least a vowel in it*\n",
    "3. *Write a program to collect the names of 10 students and add them all together to a single list*"
   ]
  },
  {
   "cell_type": "code",
   "execution_count": null,
   "id": "7c8c3006-bcd0-432d-b235-982fe8beaf28",
   "metadata": {},
   "outputs": [],
   "source": []
  }
 ],
 "metadata": {
  "kernelspec": {
   "display_name": "Python [conda env:base] *",
   "language": "python",
   "name": "conda-base-py"
  },
  "language_info": {
   "codemirror_mode": {
    "name": "ipython",
    "version": 3
   },
   "file_extension": ".py",
   "mimetype": "text/x-python",
   "name": "python",
   "nbconvert_exporter": "python",
   "pygments_lexer": "ipython3",
   "version": "3.12.7"
  }
 },
 "nbformat": 4,
 "nbformat_minor": 5
}
