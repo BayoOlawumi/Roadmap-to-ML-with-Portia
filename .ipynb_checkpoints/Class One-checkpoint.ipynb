{
 "cells": [
  {
   "cell_type": "markdown",
   "id": "c29cd60a",
   "metadata": {},
   "source": [
    "### Introduction to Python"
   ]
  },
  {
   "cell_type": "code",
   "execution_count": 10,
   "id": "138c473f",
   "metadata": {
    "scrolled": true
   },
   "outputs": [
    {
     "name": "stdout",
     "output_type": "stream",
     "text": [
      "Olawumi hgwevfwerjhfvwhevrjhfgvjwevrjh Dayo\n"
     ]
    }
   ],
   "source": [
    "name = \"Olawumi hgwevfwerjhfvwhevrjhfgvjwevrjh Dayo\"\n",
    "# You write your value on the RHS and your variable on the LHS"
   ]
  },
  {
   "cell_type": "code",
   "execution_count": 9,
   "id": "74698ab0",
   "metadata": {},
   "outputs": [],
   "source": [
    "# No cell"
   ]
  },
  {
   "cell_type": "code",
   "execution_count": 7,
   "id": "206c6f6f",
   "metadata": {
    "scrolled": true
   },
   "outputs": [
    {
     "name": "stdout",
     "output_type": "stream",
     "text": [
      "YNU\n"
     ]
    }
   ],
   "source": [
    "school = 'YNU'\n",
    "print(school)"
   ]
  },
  {
   "cell_type": "markdown",
   "id": "4334e892",
   "metadata": {},
   "source": [
    "#### DATA TYPES "
   ]
  },
  {
   "cell_type": "markdown",
   "id": "788ded80",
   "metadata": {},
   "source": [
    "**Int**"
   ]
  },
  {
   "cell_type": "code",
   "execution_count": null,
   "id": "0820e0f0",
   "metadata": {},
   "outputs": [],
   "source": [
    "age = 18"
   ]
  },
  {
   "cell_type": "markdown",
   "id": "9527977e",
   "metadata": {},
   "source": [
    "**Float**"
   ]
  },
  {
   "cell_type": "code",
   "execution_count": null,
   "id": "830b8905",
   "metadata": {},
   "outputs": [],
   "source": [
    "# Float\n",
    "height = 11.5\n",
    "cgpa = 4.68"
   ]
  },
  {
   "cell_type": "markdown",
   "id": "15262606",
   "metadata": {},
   "source": [
    "**Boolean**"
   ]
  },
  {
   "cell_type": "code",
   "execution_count": null,
   "id": "c1192b69",
   "metadata": {},
   "outputs": [],
   "source": [
    "# Boolean\n",
    "is_ok = True\n",
    "had_launch = False"
   ]
  },
  {
   "cell_type": "markdown",
   "id": "d7d0cec1",
   "metadata": {},
   "source": [
    "**String**"
   ]
  },
  {
   "cell_type": "code",
   "execution_count": 12,
   "id": "be38fa62",
   "metadata": {},
   "outputs": [],
   "source": [
    "# String\n",
    "name = 'Bayo'\n",
    "food = \"jollof\"\n",
    "text = \"kola's food\""
   ]
  },
  {
   "cell_type": "code",
   "execution_count": 13,
   "id": "ac082dc3",
   "metadata": {
    "scrolled": true
   },
   "outputs": [
    {
     "name": "stdout",
     "output_type": "stream",
     "text": [
      "kola's food\n"
     ]
    }
   ],
   "source": [
    "print(text)"
   ]
  },
  {
   "cell_type": "markdown",
   "id": "202b8b06",
   "metadata": {},
   "source": [
    "**List**"
   ]
  },
  {
   "cell_type": "code",
   "execution_count": 31,
   "id": "3cd90613",
   "metadata": {},
   "outputs": [],
   "source": [
    "# List\n",
    "fav_1 = 'beans'\n",
    "fav_2 = 'rice'\n",
    "fav_3 = 'yam'\n",
    "\n",
    "# The variable below packs the three items together\n",
    "fav_food_list = ['beans', 'rice', 'yam']"
   ]
  },
  {
   "cell_type": "code",
   "execution_count": 22,
   "id": "bdea9122",
   "metadata": {},
   "outputs": [
    {
     "data": {
      "text/plain": [
       "'beans'"
      ]
     },
     "execution_count": 22,
     "metadata": {},
     "output_type": "execute_result"
    }
   ],
   "source": [
    "fav_food_list[0]"
   ]
  },
  {
   "cell_type": "code",
   "execution_count": 25,
   "id": "c4b7f314",
   "metadata": {},
   "outputs": [
    {
     "name": "stdout",
     "output_type": "stream",
     "text": [
      "['Vegetable', 'rice', 'yam']\n"
     ]
    }
   ],
   "source": [
    "# Replacing beans with Vegetables\n",
    "fav_food_list[0] = 'Vegetable'\n",
    "\n",
    "# Printing out the updated version\n",
    "print(fav_food_list)"
   ]
  },
  {
   "cell_type": "code",
   "execution_count": 27,
   "id": "26f73b1a",
   "metadata": {},
   "outputs": [],
   "source": [
    "# creating an example of how we can pack data of different types together in a list\n",
    "my_info = [49, 'Bayo', 10.7, 'YNU']"
   ]
  },
  {
   "cell_type": "markdown",
   "id": "3014e3e4",
   "metadata": {},
   "source": [
    "**Tuple**"
   ]
  },
  {
   "cell_type": "code",
   "execution_count": 17,
   "id": "7b6c792f",
   "metadata": {},
   "outputs": [],
   "source": [
    "# Tuple\n",
    "fav_food_tuple = ('beans', 'rice', 'yam')"
   ]
  },
  {
   "cell_type": "code",
   "execution_count": 24,
   "id": "52fad4ca",
   "metadata": {},
   "outputs": [
    {
     "data": {
      "text/plain": [
       "'rice'"
      ]
     },
     "execution_count": 24,
     "metadata": {},
     "output_type": "execute_result"
    }
   ],
   "source": [
    "fav_food_tuple[1]"
   ]
  },
  {
   "cell_type": "code",
   "execution_count": 26,
   "id": "9fbc770d",
   "metadata": {
    "scrolled": false
   },
   "outputs": [
    {
     "ename": "TypeError",
     "evalue": "'tuple' object does not support item assignment",
     "output_type": "error",
     "traceback": [
      "\u001b[1;31m---------------------------------------------------------------------------\u001b[0m",
      "\u001b[1;31mTypeError\u001b[0m                                 Traceback (most recent call last)",
      "\u001b[1;32m~\\AppData\\Local\\Temp\\ipykernel_10396\\3822042247.py\u001b[0m in \u001b[0;36m<module>\u001b[1;34m\u001b[0m\n\u001b[1;32m----> 1\u001b[1;33m \u001b[0mfav_food_tuple\u001b[0m\u001b[1;33m[\u001b[0m\u001b[1;36m0\u001b[0m\u001b[1;33m]\u001b[0m \u001b[1;33m=\u001b[0m \u001b[1;34m'Cocoyam'\u001b[0m\u001b[1;33m\u001b[0m\u001b[1;33m\u001b[0m\u001b[0m\n\u001b[0m\u001b[0;32m      2\u001b[0m \u001b[0mprint\u001b[0m\u001b[1;33m(\u001b[0m\u001b[0mfav_food_tuple\u001b[0m\u001b[1;33m)\u001b[0m\u001b[1;33m\u001b[0m\u001b[1;33m\u001b[0m\u001b[0m\n",
      "\u001b[1;31mTypeError\u001b[0m: 'tuple' object does not support item assignment"
     ]
    }
   ],
   "source": [
    "fav_food_tuple[0] = 'Cocoyam'\n",
    "print(fav_food_tuple)"
   ]
  },
  {
   "cell_type": "markdown",
   "id": "815c7bdd",
   "metadata": {},
   "source": [
    "**Dictionary**"
   ]
  },
  {
   "cell_type": "code",
   "execution_count": 32,
   "id": "cda8b590",
   "metadata": {},
   "outputs": [],
   "source": [
    "# Dictionary\n",
    "names = ['kola', 'john', 'peace']\n",
    "scores = [34,56,78]\n",
    "\n",
    "dict_score = {'kola':34, 'john':56, 'peace':78}"
   ]
  },
  {
   "cell_type": "code",
   "execution_count": 33,
   "id": "0878701c",
   "metadata": {},
   "outputs": [
    {
     "data": {
      "text/plain": [
       "56"
      ]
     },
     "execution_count": 33,
     "metadata": {},
     "output_type": "execute_result"
    }
   ],
   "source": [
    "dict_score['john']"
   ]
  },
  {
   "cell_type": "code",
   "execution_count": 34,
   "id": "a7b1d4ad",
   "metadata": {},
   "outputs": [
    {
     "data": {
      "text/plain": [
       "78"
      ]
     },
     "execution_count": 34,
     "metadata": {},
     "output_type": "execute_result"
    }
   ],
   "source": [
    "dict_score['peace']"
   ]
  },
  {
   "cell_type": "markdown",
   "id": "23639a72",
   "metadata": {},
   "source": [
    "#### RULES OF NAMING VARIABLE"
   ]
  },
  {
   "cell_type": "markdown",
   "id": "21644401",
   "metadata": {},
   "source": [
    "- 1. Do not start with a number, however, you include a number but do not start with a number"
   ]
  },
  {
   "cell_type": "code",
   "execution_count": 35,
   "id": "a8971e48",
   "metadata": {},
   "outputs": [
    {
     "ename": "SyntaxError",
     "evalue": "invalid syntax (3761916937.py, line 1)",
     "output_type": "error",
     "traceback": [
      "\u001b[1;36m  File \u001b[1;32m\"C:\\Users\\Abayomi\\AppData\\Local\\Temp\\ipykernel_10396\\3761916937.py\"\u001b[1;36m, line \u001b[1;32m1\u001b[0m\n\u001b[1;33m    2names = ['bola', 'titi']\u001b[0m\n\u001b[1;37m     ^\u001b[0m\n\u001b[1;31mSyntaxError\u001b[0m\u001b[1;31m:\u001b[0m invalid syntax\n"
     ]
    }
   ],
   "source": [
    "2names = ['bola', 'titi']"
   ]
  },
  {
   "cell_type": "code",
   "execution_count": 36,
   "id": "48551821",
   "metadata": {},
   "outputs": [],
   "source": [
    "names_2 = ['bola', 'titi']"
   ]
  },
  {
   "cell_type": "markdown",
   "id": "ecc1b512",
   "metadata": {},
   "source": [
    "- 2. Do not include any special characters except underscore \n",
    "   %, *, -, +, @, "
   ]
  },
  {
   "cell_type": "code",
   "execution_count": 38,
   "id": "736341d9",
   "metadata": {},
   "outputs": [
    {
     "ename": "SyntaxError",
     "evalue": "invalid syntax (1214558661.py, line 1)",
     "output_type": "error",
     "traceback": [
      "\u001b[1;36m  File \u001b[1;32m\"C:\\Users\\Abayomi\\AppData\\Local\\Temp\\ipykernel_10396\\1214558661.py\"\u001b[1;36m, line \u001b[1;32m1\u001b[0m\n\u001b[1;33m    3a* = 56\u001b[0m\n\u001b[1;37m     ^\u001b[0m\n\u001b[1;31mSyntaxError\u001b[0m\u001b[1;31m:\u001b[0m invalid syntax\n"
     ]
    }
   ],
   "source": [
    "3a* = 56"
   ]
  },
  {
   "cell_type": "code",
   "execution_count": 37,
   "id": "783682c2",
   "metadata": {},
   "outputs": [],
   "source": [
    "name_of_school = 'Syndey'"
   ]
  },
  {
   "cell_type": "markdown",
   "id": "9d6aaa94",
   "metadata": {},
   "source": [
    "- 3. Do not use any reserve words"
   ]
  },
  {
   "cell_type": "code",
   "execution_count": null,
   "id": "eea3cce3",
   "metadata": {},
   "outputs": [],
   "source": [
    "print, for, and, in, while, range, input, if, else, elif"
   ]
  },
  {
   "cell_type": "markdown",
   "id": "1e0f9da3",
   "metadata": {},
   "source": [
    "- 4. The length of your variable name must not be more than 255"
   ]
  },
  {
   "cell_type": "code",
   "execution_count": null,
   "id": "73c26ac8",
   "metadata": {},
   "outputs": [],
   "source": []
  }
 ],
 "metadata": {
  "kernelspec": {
   "display_name": "Python 3 (ipykernel)",
   "language": "python",
   "name": "python3"
  },
  "language_info": {
   "codemirror_mode": {
    "name": "ipython",
    "version": 3
   },
   "file_extension": ".py",
   "mimetype": "text/x-python",
   "name": "python",
   "nbconvert_exporter": "python",
   "pygments_lexer": "ipython3",
   "version": "3.9.13"
  }
 },
 "nbformat": 4,
 "nbformat_minor": 5
}
