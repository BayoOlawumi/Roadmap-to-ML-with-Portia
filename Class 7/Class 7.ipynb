{
 "cells": [
  {
   "cell_type": "code",
   "execution_count": 9,
   "id": "74dd7180-773c-403a-824a-30680ac6a253",
   "metadata": {},
   "outputs": [],
   "source": [
    "### for - loop\n",
    "# item : list, string, range of numbers\n",
    "my_list = [1,2,3,4,5,6,6,7]\n",
    "my_string = \"ebayomi\"\n",
    "my_numbers = range(1, 11)"
   ]
  },
  {
   "cell_type": "code",
   "execution_count": 11,
   "id": "e5377cb7-c9cd-479b-a70a-26fe950bffed",
   "metadata": {},
   "outputs": [
    {
     "name": "stdout",
     "output_type": "stream",
     "text": [
      "10\n",
      "20\n",
      "30\n",
      "40\n",
      "50\n",
      "60\n",
      "60\n",
      "70\n"
     ]
    }
   ],
   "source": [
    "for item in my_list:\n",
    "    new_item = item*10\n",
    "    print(new_item)"
   ]
  },
  {
   "cell_type": "code",
   "execution_count": 12,
   "id": "3a648e7a-b63a-46dc-9ba9-1593e6527917",
   "metadata": {},
   "outputs": [
    {
     "name": "stdout",
     "output_type": "stream",
     "text": [
      "ep\n",
      "bp\n",
      "ap\n",
      "yp\n",
      "op\n",
      "mp\n",
      "ip\n"
     ]
    }
   ],
   "source": [
    "for each_char in my_string:\n",
    "    new_char = each_char + \"p\"\n",
    "    print(new_char)"
   ]
  },
  {
   "cell_type": "code",
   "execution_count": 13,
   "id": "193b1164-3cc4-4e22-ba56-4cd25ccbd94c",
   "metadata": {},
   "outputs": [
    {
     "name": "stdout",
     "output_type": "stream",
     "text": [
      "21\n",
      "22\n",
      "23\n",
      "24\n",
      "25\n",
      "26\n",
      "27\n",
      "28\n",
      "29\n",
      "30\n"
     ]
    }
   ],
   "source": [
    "for each_num in my_numbers:\n",
    "    new_num = each_num + 20\n",
    "    print(new_num)"
   ]
  },
  {
   "cell_type": "markdown",
   "id": "5b67c22d-56a1-4dce-adce-46b55b9d8054",
   "metadata": {},
   "source": [
    "### List"
   ]
  },
  {
   "cell_type": "code",
   "execution_count": 36,
   "id": "18217dc3-baec-4e1e-bbfa-1f9081431b2c",
   "metadata": {},
   "outputs": [],
   "source": [
    "numbers = [1,2,3,3,54,3354,35,35,33,5]\n",
    "names = [\"kola\", \"david\", \"emmanuel\", \"briget\", \"joseph\"]\n",
    "items = [1, \"a\", \"worlds\"]"
   ]
  },
  {
   "cell_type": "code",
   "execution_count": null,
   "id": "00dbf091-68c1-4a38-a154-a582b60f6fb1",
   "metadata": {},
   "outputs": [],
   "source": []
  },
  {
   "cell_type": "markdown",
   "id": "43f89d2e-2d7f-4eec-b396-c31b72e02d77",
   "metadata": {},
   "source": [
    "**Accessing List Items**"
   ]
  },
  {
   "cell_type": "code",
   "execution_count": null,
   "id": "e23c39ae-1b38-479d-9423-506cbe8d5b18",
   "metadata": {},
   "outputs": [],
   "source": [
    "## Positive Numbering or Forward Numbering"
   ]
  },
  {
   "cell_type": "code",
   "execution_count": 17,
   "id": "d142d4cd-4b96-4f8d-9c6f-9aa74ff7106d",
   "metadata": {},
   "outputs": [
    {
     "name": "stdout",
     "output_type": "stream",
     "text": [
      "1\n"
     ]
    }
   ],
   "source": [
    "print(numbers[0])"
   ]
  },
  {
   "cell_type": "code",
   "execution_count": 18,
   "id": "624b4b9b-6c13-49e6-99df-b5e5f1750d55",
   "metadata": {},
   "outputs": [
    {
     "name": "stdout",
     "output_type": "stream",
     "text": [
      "5\n"
     ]
    }
   ],
   "source": [
    "extracted_number = numbers[9]\n",
    "print(extracted_number)"
   ]
  },
  {
   "cell_type": "code",
   "execution_count": null,
   "id": "e98db65f-7761-4ed4-b632-f944a9a4b184",
   "metadata": {},
   "outputs": [],
   "source": [
    "## Negative Numbering or Backward Numbering"
   ]
  },
  {
   "cell_type": "code",
   "execution_count": 19,
   "id": "83554a0a-e512-4690-9118-6cb274fd9aad",
   "metadata": {},
   "outputs": [
    {
     "name": "stdout",
     "output_type": "stream",
     "text": [
      "5\n"
     ]
    }
   ],
   "source": [
    "extracted_number = numbers[-1]\n",
    "print(extracted_number)"
   ]
  },
  {
   "cell_type": "code",
   "execution_count": 20,
   "id": "7841bbad-fb20-4f7f-8eea-be41dd37ef84",
   "metadata": {},
   "outputs": [
    {
     "data": {
      "text/plain": [
       "[1, 2, 3, 3, 54, 3354, 35, 35, 33, 5]"
      ]
     },
     "execution_count": 20,
     "metadata": {},
     "output_type": "execute_result"
    }
   ],
   "source": [
    "numbers"
   ]
  },
  {
   "cell_type": "code",
   "execution_count": 22,
   "id": "fdc76861-29c4-4e0d-8c32-e8d37dcd80a8",
   "metadata": {},
   "outputs": [],
   "source": [
    "new_numbers = numbers[0:3]"
   ]
  },
  {
   "cell_type": "code",
   "execution_count": 25,
   "id": "fff2efe1-7ed4-4bf5-b0dc-1480a102a7e0",
   "metadata": {},
   "outputs": [
    {
     "data": {
      "text/plain": [
       "[1, 2, 3]"
      ]
     },
     "execution_count": 25,
     "metadata": {},
     "output_type": "execute_result"
    }
   ],
   "source": [
    "new_numbers"
   ]
  },
  {
   "cell_type": "code",
   "execution_count": 31,
   "id": "7e9550cf-b249-490c-9b52-111c2d3c5560",
   "metadata": {},
   "outputs": [],
   "source": [
    "new_names = names[-2:]"
   ]
  },
  {
   "cell_type": "code",
   "execution_count": 32,
   "id": "30676011-74ec-4e71-99d1-125a8f9bf0bf",
   "metadata": {},
   "outputs": [
    {
     "data": {
      "text/plain": [
       "['bridget', 'joseph']"
      ]
     },
     "execution_count": 32,
     "metadata": {},
     "output_type": "execute_result"
    }
   ],
   "source": [
    "new_names"
   ]
  },
  {
   "cell_type": "markdown",
   "id": "57a7a1ca-859e-4ec7-90c7-7488991e6439",
   "metadata": {},
   "source": [
    "**Changing List Items**"
   ]
  },
  {
   "cell_type": "code",
   "execution_count": 37,
   "id": "15ef4e16-4264-4280-9e7f-a7c7e45edc5c",
   "metadata": {},
   "outputs": [
    {
     "data": {
      "text/plain": [
       "['kola', 'david', 'emmanuel', 'briget', 'joseph']"
      ]
     },
     "execution_count": 37,
     "metadata": {},
     "output_type": "execute_result"
    }
   ],
   "source": [
    "names"
   ]
  },
  {
   "cell_type": "code",
   "execution_count": 38,
   "id": "54e3eb00-3e85-47a3-9ca1-3a883f46eb4d",
   "metadata": {},
   "outputs": [],
   "source": [
    "names[3] = 'bridget'"
   ]
  },
  {
   "cell_type": "code",
   "execution_count": 39,
   "id": "c06a027f-b346-45c1-8d04-7040c4373f63",
   "metadata": {},
   "outputs": [
    {
     "data": {
      "text/plain": [
       "['kola', 'david', 'emmanuel', 'bridget', 'joseph']"
      ]
     },
     "execution_count": 39,
     "metadata": {},
     "output_type": "execute_result"
    }
   ],
   "source": [
    "names"
   ]
  },
  {
   "cell_type": "code",
   "execution_count": 44,
   "id": "ee603159-9a87-4900-93bf-4d83d02d1e7c",
   "metadata": {},
   "outputs": [],
   "source": [
    "names[0:2] = ['brown', 'stone']"
   ]
  },
  {
   "cell_type": "code",
   "execution_count": 45,
   "id": "60704eb6-91b9-4158-8ea9-d173591e27a2",
   "metadata": {},
   "outputs": [
    {
     "data": {
      "text/plain": [
       "['brown', 'stone', 'emmanuel', 'bridget', 'joseph']"
      ]
     },
     "execution_count": 45,
     "metadata": {},
     "output_type": "execute_result"
    }
   ],
   "source": [
    "names"
   ]
  },
  {
   "cell_type": "markdown",
   "id": "fd22b227-2990-4fa5-8b20-f12162cbbb8a",
   "metadata": {},
   "source": [
    "**Adding and Removing List Items**"
   ]
  },
  {
   "cell_type": "code",
   "execution_count": 46,
   "id": "30467b72-aa43-45fa-bef1-0bcba6d3ac64",
   "metadata": {},
   "outputs": [
    {
     "data": {
      "text/plain": [
       "[1, 'a', 'worlds']"
      ]
     },
     "execution_count": 46,
     "metadata": {},
     "output_type": "execute_result"
    }
   ],
   "source": [
    "### Append, Insert, extend, remove\n",
    "items"
   ]
  },
  {
   "cell_type": "code",
   "execution_count": 47,
   "id": "e6395f18-1170-4a57-9225-eb5fe157be39",
   "metadata": {},
   "outputs": [],
   "source": [
    "## Append\n",
    "## To add item to an existing list. Take note: Item is put in the last index\n",
    "new_item = \"book\"\n",
    "items.append(new_item)"
   ]
  },
  {
   "cell_type": "code",
   "execution_count": 48,
   "id": "6b0e0c39-e0bd-47d2-81e3-4759aa7146b5",
   "metadata": {},
   "outputs": [
    {
     "data": {
      "text/plain": [
       "[1, 'a', 'worlds', 'book']"
      ]
     },
     "execution_count": 48,
     "metadata": {},
     "output_type": "execute_result"
    }
   ],
   "source": [
    "items"
   ]
  },
  {
   "cell_type": "code",
   "execution_count": 49,
   "id": "fde83a66-f890-4266-9f16-a46245dc801b",
   "metadata": {},
   "outputs": [],
   "source": [
    "items.append(\"pen\")"
   ]
  },
  {
   "cell_type": "code",
   "execution_count": 50,
   "id": "262cae67-eda2-47ef-94be-acce7cc4124d",
   "metadata": {},
   "outputs": [
    {
     "data": {
      "text/plain": [
       "[1, 'a', 'worlds', 'book', 'pen']"
      ]
     },
     "execution_count": 50,
     "metadata": {},
     "output_type": "execute_result"
    }
   ],
   "source": [
    "items"
   ]
  },
  {
   "cell_type": "code",
   "execution_count": 51,
   "id": "91e643bf-12c7-4c93-89f5-44f0d9350db1",
   "metadata": {},
   "outputs": [],
   "source": [
    "new_item2 = 70\n",
    "items.append(new_item2)"
   ]
  },
  {
   "cell_type": "code",
   "execution_count": 52,
   "id": "eafa2fb3-29f4-42d8-a44b-bbb30a770987",
   "metadata": {},
   "outputs": [
    {
     "data": {
      "text/plain": [
       "[1, 'a', 'worlds', 'book', 'pen', 70]"
      ]
     },
     "execution_count": 52,
     "metadata": {},
     "output_type": "execute_result"
    }
   ],
   "source": [
    "items"
   ]
  },
  {
   "cell_type": "code",
   "execution_count": null,
   "id": "bbcfb570-a0c4-4e69-9f5b-9554ba6e59f0",
   "metadata": {},
   "outputs": [],
   "source": [
    "## Insert()\n",
    "## You can use insert to slot item in a particular location"
   ]
  },
  {
   "cell_type": "code",
   "execution_count": 53,
   "id": "95be57e5-f298-43ef-a67c-99bccdcbfb35",
   "metadata": {},
   "outputs": [],
   "source": [
    "new_item_3 = \"shelves\"\n",
    "items.insert(3, new_item_3)"
   ]
  },
  {
   "cell_type": "code",
   "execution_count": 54,
   "id": "96a1ed7e-e067-4b10-8930-e5b2f5013c50",
   "metadata": {},
   "outputs": [
    {
     "data": {
      "text/plain": [
       "[1, 'a', 'worlds', 'shelves', 'book', 'pen', 70]"
      ]
     },
     "execution_count": 54,
     "metadata": {},
     "output_type": "execute_result"
    }
   ],
   "source": [
    "items"
   ]
  },
  {
   "cell_type": "code",
   "execution_count": 55,
   "id": "ae4a8f4d-ddc1-4979-adce-c19ff932ef40",
   "metadata": {},
   "outputs": [
    {
     "data": {
      "text/plain": [
       "['brown', 'stone', 'emmanuel', 'bridget', 'joseph']"
      ]
     },
     "execution_count": 55,
     "metadata": {},
     "output_type": "execute_result"
    }
   ],
   "source": [
    "# Extend\n",
    "# You use extend when you want to add or append two existing list\n",
    "\n",
    "names"
   ]
  },
  {
   "cell_type": "code",
   "execution_count": 56,
   "id": "b86b08fe-1a1d-4796-bedc-d119576c7564",
   "metadata": {},
   "outputs": [
    {
     "data": {
      "text/plain": [
       "[1, 'a', 'worlds', 'shelves', 'book', 'pen', 70]"
      ]
     },
     "execution_count": 56,
     "metadata": {},
     "output_type": "execute_result"
    }
   ],
   "source": [
    "items"
   ]
  },
  {
   "cell_type": "code",
   "execution_count": 57,
   "id": "43f8da9b-2915-4199-9a41-904dfd1dd494",
   "metadata": {},
   "outputs": [],
   "source": [
    "names.extend(items)"
   ]
  },
  {
   "cell_type": "code",
   "execution_count": 58,
   "id": "6d5681a6-522b-439b-bfc0-3b2f1407f6f6",
   "metadata": {},
   "outputs": [
    {
     "data": {
      "text/plain": [
       "['brown',\n",
       " 'stone',\n",
       " 'emmanuel',\n",
       " 'bridget',\n",
       " 'joseph',\n",
       " 1,\n",
       " 'a',\n",
       " 'worlds',\n",
       " 'shelves',\n",
       " 'book',\n",
       " 'pen',\n",
       " 70]"
      ]
     },
     "execution_count": 58,
     "metadata": {},
     "output_type": "execute_result"
    }
   ],
   "source": [
    "names"
   ]
  },
  {
   "cell_type": "code",
   "execution_count": 59,
   "id": "b30b6ca4-5496-439e-addc-a896759b3f70",
   "metadata": {},
   "outputs": [
    {
     "data": {
      "text/plain": [
       "[1, 'a', 'worlds', 'shelves', 'book', 'pen', 70]"
      ]
     },
     "execution_count": 59,
     "metadata": {},
     "output_type": "execute_result"
    }
   ],
   "source": [
    "items"
   ]
  },
  {
   "cell_type": "code",
   "execution_count": 61,
   "id": "ce1275c9-3a31-4dd3-bee4-a6b1fcac5561",
   "metadata": {},
   "outputs": [
    {
     "data": {
      "text/plain": [
       "['brown',\n",
       " 'stone',\n",
       " 'emmanuel',\n",
       " 'bridget',\n",
       " 'joseph',\n",
       " 1,\n",
       " 'a',\n",
       " 'worlds',\n",
       " 'shelves',\n",
       " 'book',\n",
       " 'pen',\n",
       " 70]"
      ]
     },
     "execution_count": 61,
     "metadata": {},
     "output_type": "execute_result"
    }
   ],
   "source": [
    "## Removing\n",
    "names"
   ]
  },
  {
   "cell_type": "code",
   "execution_count": 62,
   "id": "7c374b12-e599-4cbf-92a0-380d2bc5c815",
   "metadata": {},
   "outputs": [],
   "source": [
    "#Remove()\n",
    "names.remove(1)"
   ]
  },
  {
   "cell_type": "code",
   "execution_count": 63,
   "id": "e5d36f6d-2478-4001-b5da-5ef0818fd194",
   "metadata": {},
   "outputs": [
    {
     "data": {
      "text/plain": [
       "['brown',\n",
       " 'stone',\n",
       " 'emmanuel',\n",
       " 'bridget',\n",
       " 'joseph',\n",
       " 'a',\n",
       " 'worlds',\n",
       " 'shelves',\n",
       " 'book',\n",
       " 'pen',\n",
       " 70]"
      ]
     },
     "execution_count": 63,
     "metadata": {},
     "output_type": "execute_result"
    }
   ],
   "source": [
    "names"
   ]
  },
  {
   "cell_type": "code",
   "execution_count": 64,
   "id": "c6710b7b-e90a-4c9f-901b-d98b14a05156",
   "metadata": {},
   "outputs": [],
   "source": [
    "names.remove(70)"
   ]
  },
  {
   "cell_type": "code",
   "execution_count": 65,
   "id": "9bbe8222-ca59-4c28-8173-dda6e8dd72de",
   "metadata": {},
   "outputs": [
    {
     "data": {
      "text/plain": [
       "['brown',\n",
       " 'stone',\n",
       " 'emmanuel',\n",
       " 'bridget',\n",
       " 'joseph',\n",
       " 'a',\n",
       " 'worlds',\n",
       " 'shelves',\n",
       " 'book',\n",
       " 'pen']"
      ]
     },
     "execution_count": 65,
     "metadata": {},
     "output_type": "execute_result"
    }
   ],
   "source": [
    "names"
   ]
  },
  {
   "cell_type": "code",
   "execution_count": 67,
   "id": "6655754e-ad43-4a52-9d9a-5268cbcc3621",
   "metadata": {},
   "outputs": [],
   "source": [
    "names.remove('a')"
   ]
  },
  {
   "cell_type": "code",
   "execution_count": 68,
   "id": "ef2283eb-d184-4138-b420-d581f56b51a1",
   "metadata": {},
   "outputs": [
    {
     "data": {
      "text/plain": [
       "['brown',\n",
       " 'stone',\n",
       " 'emmanuel',\n",
       " 'bridget',\n",
       " 'joseph',\n",
       " 'worlds',\n",
       " 'shelves',\n",
       " 'book',\n",
       " 'pen']"
      ]
     },
     "execution_count": 68,
     "metadata": {},
     "output_type": "execute_result"
    }
   ],
   "source": [
    "names"
   ]
  },
  {
   "cell_type": "code",
   "execution_count": 69,
   "id": "e3f8d141-4750-42f4-9be4-448ac3735eb0",
   "metadata": {},
   "outputs": [
    {
     "data": {
      "text/plain": [
       "'pen'"
      ]
     },
     "execution_count": 69,
     "metadata": {},
     "output_type": "execute_result"
    }
   ],
   "source": [
    "names.pop()"
   ]
  },
  {
   "cell_type": "code",
   "execution_count": 71,
   "id": "534a6adf-de91-4575-a760-4185487c4488",
   "metadata": {},
   "outputs": [
    {
     "data": {
      "text/plain": [
       "'stone'"
      ]
     },
     "execution_count": 71,
     "metadata": {},
     "output_type": "execute_result"
    }
   ],
   "source": [
    "names.pop(1)"
   ]
  },
  {
   "cell_type": "code",
   "execution_count": 72,
   "id": "f1be8e68-03fd-47a7-aaf7-5fa096287163",
   "metadata": {},
   "outputs": [
    {
     "data": {
      "text/plain": [
       "['brown', 'emmanuel', 'bridget', 'joseph', 'worlds', 'shelves', 'book']"
      ]
     },
     "execution_count": 72,
     "metadata": {},
     "output_type": "execute_result"
    }
   ],
   "source": [
    "names"
   ]
  },
  {
   "cell_type": "code",
   "execution_count": 70,
   "id": "e937ea70-b925-480f-bbed-c78cd02b62bc",
   "metadata": {},
   "outputs": [
    {
     "data": {
      "text/plain": [
       "['brown',\n",
       " 'stone',\n",
       " 'emmanuel',\n",
       " 'bridget',\n",
       " 'joseph',\n",
       " 'worlds',\n",
       " 'shelves',\n",
       " 'book']"
      ]
     },
     "execution_count": 70,
     "metadata": {},
     "output_type": "execute_result"
    }
   ],
   "source": [
    "names"
   ]
  },
  {
   "cell_type": "markdown",
   "id": "a1e91f89-7f2c-4983-8834-312fc5ae6892",
   "metadata": {},
   "source": [
    "**Iterate or Loop through List items**"
   ]
  },
  {
   "cell_type": "code",
   "execution_count": null,
   "id": "2b0dfc9a-c899-4a50-b119-05c3eed5c800",
   "metadata": {},
   "outputs": [],
   "source": [
    "# for x in list:\n",
    "    #Action Statements\n",
    "\n",
    "# for i in range(len(list)):\n",
    "    # each_item = list[i]"
   ]
  },
  {
   "cell_type": "code",
   "execution_count": 73,
   "id": "24b6874d-2aa4-4cb0-b984-dd78e4463093",
   "metadata": {},
   "outputs": [
    {
     "data": {
      "text/plain": [
       "['brown', 'emmanuel', 'bridget', 'joseph', 'worlds', 'shelves', 'book']"
      ]
     },
     "execution_count": 73,
     "metadata": {},
     "output_type": "execute_result"
    }
   ],
   "source": [
    "names"
   ]
  },
  {
   "cell_type": "code",
   "execution_count": 74,
   "id": "0656c14b-62d7-422f-987f-c88050fc3ed5",
   "metadata": {},
   "outputs": [
    {
     "name": "stdout",
     "output_type": "stream",
     "text": [
      "brown  is smart\n",
      "emmanuel  is smart\n",
      "bridget  is smart\n",
      "joseph  is smart\n",
      "worlds  is smart\n",
      "shelves  is smart\n",
      "book  is smart\n"
     ]
    }
   ],
   "source": [
    "for name in names:\n",
    "    print(name, \" is smart\")\n",
    "    "
   ]
  },
  {
   "cell_type": "code",
   "execution_count": 75,
   "id": "519ff7fb-636e-40a7-bf5d-ef70d5a600a7",
   "metadata": {},
   "outputs": [
    {
     "name": "stdout",
     "output_type": "stream",
     "text": [
      "brown  is smart\n",
      "bridget  is smart\n",
      "book  is smart\n"
     ]
    }
   ],
   "source": [
    "for name in names:\n",
    "    if name[0] == 'b':\n",
    "        print(name, \" is smart\")\n",
    "    "
   ]
  },
  {
   "cell_type": "code",
   "execution_count": null,
   "id": "a45527e4-ef36-4263-a959-b282350703fd",
   "metadata": {},
   "outputs": [],
   "source": [
    "\n",
    "# while loop\n",
    "# i = 0\n",
    "# while i < len(list)\n",
    "    #action statement\n",
    "    # i = i + 1"
   ]
  },
  {
   "cell_type": "markdown",
   "id": "ebc49975-1369-470b-9f95-db141cefed7d",
   "metadata": {},
   "source": [
    "**Introduction to List Comprehension**"
   ]
  },
  {
   "cell_type": "code",
   "execution_count": null,
   "id": "ac885b37-d3c2-4905-a3dc-d196f22fe9f1",
   "metadata": {},
   "outputs": [],
   "source": [
    "#list = []\n",
    "# [action(x) for x in list]\n",
    "# new_list = [action(x) for x in list]\n",
    "\n",
    "# with condition\n",
    "# [newlist = [expression for item in iterable if condition == True]"
   ]
  },
  {
   "cell_type": "markdown",
   "id": "2683a611-32fd-4acd-984d-dacd60baa44f",
   "metadata": {},
   "source": [
    "**Sorting, Copying and Joining List**"
   ]
  },
  {
   "cell_type": "code",
   "execution_count": null,
   "id": "fe7034c9-9019-4f3d-ad3b-c11efdd6bbe0",
   "metadata": {},
   "outputs": [],
   "source": [
    "# sort () alphabetically\n",
    "# sort () numerically\n",
    "\n",
    "# sort in descending order (reverse =True)\n",
    "\n",
    "# copy(), extend()"
   ]
  },
  {
   "cell_type": "markdown",
   "id": "9c27e6d0-194e-4b9c-a677-886577258267",
   "metadata": {},
   "source": [
    "**Important List Methods**"
   ]
  },
  {
   "cell_type": "code",
   "execution_count": 3,
   "id": "0b5feeae-cbd8-4e91-bebf-cc9d9c54785d",
   "metadata": {},
   "outputs": [
    {
     "data": {
      "text/plain": [
       "7"
      ]
     },
     "execution_count": 3,
     "metadata": {},
     "output_type": "execute_result"
    }
   ],
   "source": [
    "# pop()\tRemoves the element at the specified position\n",
    "# list.pop(x)\n",
    "\n",
    "# index()Returns the index of the first element with the specified value\n"
   ]
  },
  {
   "cell_type": "markdown",
   "id": "aa66edc6-f226-4872-b715-0e165c083d0d",
   "metadata": {},
   "source": [
    "***Note: You can also have lists in a list*** "
   ]
  },
  {
   "cell_type": "code",
   "execution_count": null,
   "id": "95ed67ed-20af-4644-97aa-39f8945c3416",
   "metadata": {},
   "outputs": [],
   "source": []
  },
  {
   "cell_type": "markdown",
   "id": "599baec2-3e55-446b-baf7-1dc3fac36e4d",
   "metadata": {},
   "source": [
    "### Assignment"
   ]
  },
  {
   "cell_type": "markdown",
   "id": "653cc360-f9b5-4999-b041-1431e33212a8",
   "metadata": {},
   "source": [
    "**List Creation & Access**\n",
    "- Create a list of 5 fruits and print it.\n",
    "\n",
    "- Print the first and last element of a list.\n",
    "\n",
    "- Create a list of numbers from 1 to 10 using range() and multiply each by 50 (print the result also).\n",
    "\n",
    "- Access and print the middle element of a list.\n",
    "\n",
    "- Slice a list to get the first 3 elements.\n",
    "\n",
    "**List Modification**\n",
    "- Append an item to a list.\n",
    "\n",
    "- Insert an item at the 2nd position.\n",
    "\n",
    "- Remove an item by value.\n",
    "\n",
    "- Remove an item by index using pop().\n",
    "\n",
    "- Replace the 3rd item in a list with a new value.\n",
    "\n",
    "**List Operations**\n",
    "- Concatenate two lists.\n",
    "\n",
    "- Check if an item exists in a list using in.\n",
    "\n",
    "- Find the length of a list.\n",
    "\n"
   ]
  },
  {
   "cell_type": "code",
   "execution_count": null,
   "id": "6b299335-a8d6-40f7-9df8-12ee6a31f135",
   "metadata": {},
   "outputs": [],
   "source": []
  }
 ],
 "metadata": {
  "kernelspec": {
   "display_name": "Python [conda env:base] *",
   "language": "python",
   "name": "conda-base-py"
  },
  "language_info": {
   "codemirror_mode": {
    "name": "ipython",
    "version": 3
   },
   "file_extension": ".py",
   "mimetype": "text/x-python",
   "name": "python",
   "nbconvert_exporter": "python",
   "pygments_lexer": "ipython3",
   "version": "3.12.7"
  }
 },
 "nbformat": 4,
 "nbformat_minor": 5
}
