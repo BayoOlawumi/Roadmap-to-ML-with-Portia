{
 "cells": [
  {
   "cell_type": "code",
   "execution_count": 2,
   "id": "86c7ca3b",
   "metadata": {},
   "outputs": [],
   "source": [
    "# Data Types\n",
    "# int, float, string, list, Tuple\n",
    "# We have talked about data type\n",
    "\n",
    "age = 56.8\n",
    "name = \"John\"\n",
    "height = 11\n",
    "house_number = 65"
   ]
  },
  {
   "cell_type": "code",
   "execution_count": 3,
   "id": "1ee1aae1-1547-4660-afd8-614a08cb4dc0",
   "metadata": {},
   "outputs": [
    {
     "name": "stdout",
     "output_type": "stream",
     "text": [
      "11\n"
     ]
    }
   ],
   "source": [
    "print(height)"
   ]
  },
  {
   "cell_type": "code",
   "execution_count": 4,
   "id": "3e3ee2e1",
   "metadata": {},
   "outputs": [],
   "source": [
    "new_age = age + 12"
   ]
  },
  {
   "cell_type": "code",
   "execution_count": 5,
   "id": "d48bc7fb",
   "metadata": {
    "scrolled": true
   },
   "outputs": [
    {
     "name": "stdout",
     "output_type": "stream",
     "text": [
      "68\n"
     ]
    }
   ],
   "source": [
    "print(new_age)"
   ]
  },
  {
   "cell_type": "markdown",
   "id": "bbfbb4c7",
   "metadata": {},
   "source": [
    "**Casting**"
   ]
  },
  {
   "cell_type": "code",
   "execution_count": 4,
   "id": "5eabf0a8-8320-45be-9d91-dc2f4c4e2c2d",
   "metadata": {},
   "outputs": [],
   "source": [
    "age = 32.8"
   ]
  },
  {
   "cell_type": "code",
   "execution_count": 5,
   "id": "30072006-1e30-4ae5-8538-14dc8a087a4f",
   "metadata": {},
   "outputs": [
    {
     "data": {
      "text/plain": [
       "32"
      ]
     },
     "execution_count": 5,
     "metadata": {},
     "output_type": "execute_result"
    }
   ],
   "source": [
    "int(age)"
   ]
  },
  {
   "cell_type": "code",
   "execution_count": 6,
   "id": "7b8ba92d-0803-462d-93a0-fc130b5dd1ab",
   "metadata": {},
   "outputs": [
    {
     "data": {
      "text/plain": [
       "32.8"
      ]
     },
     "execution_count": 6,
     "metadata": {},
     "output_type": "execute_result"
    }
   ],
   "source": [
    "age"
   ]
  },
  {
   "cell_type": "code",
   "execution_count": 7,
   "id": "1b2c4b0a",
   "metadata": {},
   "outputs": [],
   "source": [
    "age = int(age)"
   ]
  },
  {
   "cell_type": "code",
   "execution_count": 8,
   "id": "ab4f82e2",
   "metadata": {},
   "outputs": [
    {
     "data": {
      "text/plain": [
       "32"
      ]
     },
     "execution_count": 8,
     "metadata": {},
     "output_type": "execute_result"
    }
   ],
   "source": [
    "age"
   ]
  },
  {
   "cell_type": "code",
   "execution_count": 9,
   "id": "480e7871-aa8e-4a97-a939-fc778112c2bf",
   "metadata": {},
   "outputs": [],
   "source": [
    "height = 90"
   ]
  },
  {
   "cell_type": "code",
   "execution_count": 10,
   "id": "ca9fd2b1",
   "metadata": {},
   "outputs": [],
   "source": [
    "height = float(height)"
   ]
  },
  {
   "cell_type": "code",
   "execution_count": 11,
   "id": "f5463778",
   "metadata": {},
   "outputs": [
    {
     "data": {
      "text/plain": [
       "90.0"
      ]
     },
     "execution_count": 11,
     "metadata": {},
     "output_type": "execute_result"
    }
   ],
   "source": [
    "height"
   ]
  },
  {
   "cell_type": "code",
   "execution_count": 22,
   "id": "068f536b",
   "metadata": {},
   "outputs": [],
   "source": [
    "house_number = str(house_number)"
   ]
  },
  {
   "cell_type": "code",
   "execution_count": 23,
   "id": "62184477",
   "metadata": {},
   "outputs": [
    {
     "data": {
      "text/plain": [
       "'65'"
      ]
     },
     "execution_count": 23,
     "metadata": {},
     "output_type": "execute_result"
    }
   ],
   "source": [
    "house_number"
   ]
  },
  {
   "cell_type": "markdown",
   "id": "f4f0c81e",
   "metadata": {},
   "source": [
    "**Operators**"
   ]
  },
  {
   "cell_type": "code",
   "execution_count": 12,
   "id": "36487526",
   "metadata": {},
   "outputs": [],
   "source": [
    "first_boy = 89\n",
    "second_boy = 67"
   ]
  },
  {
   "cell_type": "markdown",
   "id": "853c176d",
   "metadata": {},
   "source": [
    "_Arithmetic Operators_"
   ]
  },
  {
   "cell_type": "code",
   "execution_count": 26,
   "id": "c8b3d1d2",
   "metadata": {},
   "outputs": [],
   "source": [
    "# Addition\n",
    "# Subtraction\n",
    "# Multiplication\n",
    "# Division\n",
    "# Exponential\n",
    "# Modulus\n",
    "# Floor Division"
   ]
  },
  {
   "cell_type": "code",
   "execution_count": 13,
   "id": "61e18329-d423-4228-a456-8a9a3b2271be",
   "metadata": {},
   "outputs": [
    {
     "data": {
      "text/plain": [
       "156"
      ]
     },
     "execution_count": 13,
     "metadata": {},
     "output_type": "execute_result"
    }
   ],
   "source": [
    "first_boy + second_boy"
   ]
  },
  {
   "cell_type": "code",
   "execution_count": 29,
   "id": "fd4ca21a",
   "metadata": {},
   "outputs": [],
   "source": [
    "# Addition\n",
    "boys_addition = first_boy + second_boy"
   ]
  },
  {
   "cell_type": "code",
   "execution_count": 30,
   "id": "3e3fe145",
   "metadata": {},
   "outputs": [
    {
     "data": {
      "text/plain": [
       "156"
      ]
     },
     "execution_count": 30,
     "metadata": {},
     "output_type": "execute_result"
    }
   ],
   "source": [
    "boys_addition"
   ]
  },
  {
   "cell_type": "code",
   "execution_count": 31,
   "id": "5c97f36e",
   "metadata": {},
   "outputs": [],
   "source": [
    "# Subtraction\n",
    "third_boy = boys_addition - 20"
   ]
  },
  {
   "cell_type": "code",
   "execution_count": 32,
   "id": "76f6f88f",
   "metadata": {},
   "outputs": [
    {
     "name": "stdout",
     "output_type": "stream",
     "text": [
      "136\n"
     ]
    }
   ],
   "source": [
    "print(third_boy)"
   ]
  },
  {
   "cell_type": "code",
   "execution_count": 33,
   "id": "b4164975",
   "metadata": {},
   "outputs": [
    {
     "data": {
      "text/plain": [
       "136"
      ]
     },
     "execution_count": 33,
     "metadata": {},
     "output_type": "execute_result"
    }
   ],
   "source": [
    "first_boy + second_boy - 20"
   ]
  },
  {
   "cell_type": "code",
   "execution_count": 34,
   "id": "cda1d3c2",
   "metadata": {},
   "outputs": [],
   "source": [
    "# Multiplication - *\n",
    "# scale the first boy's age by 3\n",
    "first_boy_scaled = first_boy * 3"
   ]
  },
  {
   "cell_type": "code",
   "execution_count": 35,
   "id": "79ced22e",
   "metadata": {},
   "outputs": [
    {
     "name": "stdout",
     "output_type": "stream",
     "text": [
      "267\n"
     ]
    }
   ],
   "source": [
    "print(first_boy_scaled)"
   ]
  },
  {
   "cell_type": "code",
   "execution_count": 36,
   "id": "2064b548",
   "metadata": {},
   "outputs": [
    {
     "data": {
      "text/plain": [
       "267"
      ]
     },
     "execution_count": 36,
     "metadata": {},
     "output_type": "execute_result"
    }
   ],
   "source": [
    "89*3"
   ]
  },
  {
   "cell_type": "code",
   "execution_count": 38,
   "id": "2fe61edb",
   "metadata": {},
   "outputs": [],
   "source": [
    "# Division\n",
    "boys_division = boys_addition / 2"
   ]
  },
  {
   "cell_type": "code",
   "execution_count": 39,
   "id": "d10bc803",
   "metadata": {},
   "outputs": [
    {
     "name": "stdout",
     "output_type": "stream",
     "text": [
      "78.0\n"
     ]
    }
   ],
   "source": [
    "print(boys_division)"
   ]
  },
  {
   "cell_type": "code",
   "execution_count": 42,
   "id": "e6a3e100",
   "metadata": {},
   "outputs": [],
   "source": [
    "boys_division = int(boys_division)"
   ]
  },
  {
   "cell_type": "code",
   "execution_count": 43,
   "id": "4ed75218",
   "metadata": {},
   "outputs": [
    {
     "data": {
      "text/plain": [
       "78"
      ]
     },
     "execution_count": 43,
     "metadata": {},
     "output_type": "execute_result"
    }
   ],
   "source": [
    "boys_division"
   ]
  },
  {
   "cell_type": "code",
   "execution_count": 44,
   "id": "854ad068",
   "metadata": {},
   "outputs": [
    {
     "data": {
      "text/plain": [
       "16"
      ]
     },
     "execution_count": 44,
     "metadata": {},
     "output_type": "execute_result"
    }
   ],
   "source": [
    "# Exponential - **\n",
    "2**4"
   ]
  },
  {
   "cell_type": "code",
   "execution_count": 45,
   "id": "ffc91e0c",
   "metadata": {},
   "outputs": [],
   "source": [
    "exp_second_boy = second_boy ** 2"
   ]
  },
  {
   "cell_type": "code",
   "execution_count": 46,
   "id": "92a6ddb0",
   "metadata": {},
   "outputs": [
    {
     "name": "stdout",
     "output_type": "stream",
     "text": [
      "4489\n"
     ]
    }
   ],
   "source": [
    "print(exp_second_boy)"
   ]
  },
  {
   "cell_type": "code",
   "execution_count": 47,
   "id": "d37b310e",
   "metadata": {},
   "outputs": [
    {
     "data": {
      "text/plain": [
       "1"
      ]
     },
     "execution_count": 47,
     "metadata": {},
     "output_type": "execute_result"
    }
   ],
   "source": [
    "# Modulus - Remainder - %\n",
    "first_boy % 2"
   ]
  },
  {
   "cell_type": "code",
   "execution_count": 49,
   "id": "1c29e34f",
   "metadata": {},
   "outputs": [
    {
     "data": {
      "text/plain": [
       "1"
      ]
     },
     "execution_count": 49,
     "metadata": {},
     "output_type": "execute_result"
    }
   ],
   "source": [
    "second_boy % 2"
   ]
  },
  {
   "cell_type": "code",
   "execution_count": 52,
   "id": "ca3ad002",
   "metadata": {},
   "outputs": [
    {
     "data": {
      "text/plain": [
       "3"
      ]
     },
     "execution_count": 52,
     "metadata": {},
     "output_type": "execute_result"
    }
   ],
   "source": [
    "53 % 5"
   ]
  },
  {
   "cell_type": "code",
   "execution_count": 53,
   "id": "9446790e",
   "metadata": {},
   "outputs": [
    {
     "data": {
      "text/plain": [
       "2"
      ]
     },
     "execution_count": 53,
     "metadata": {},
     "output_type": "execute_result"
    }
   ],
   "source": [
    "# Floor Division\n",
    "\n",
    "7 // 3"
   ]
  },
  {
   "cell_type": "code",
   "execution_count": 54,
   "id": "e912f78f",
   "metadata": {},
   "outputs": [
    {
     "data": {
      "text/plain": [
       "33"
      ]
     },
     "execution_count": 54,
     "metadata": {},
     "output_type": "execute_result"
    }
   ],
   "source": [
    "second_boy // 2"
   ]
  },
  {
   "cell_type": "code",
   "execution_count": null,
   "id": "bb24b3c9",
   "metadata": {},
   "outputs": [],
   "source": [
    "# BODMAS\n",
    "# PEDMAS"
   ]
  },
  {
   "cell_type": "code",
   "execution_count": 16,
   "id": "4ba8d5e2",
   "metadata": {},
   "outputs": [],
   "source": [
    "# Pythagoras Theorem\n",
    "opposite = 7\n",
    "adjacent = 10\n",
    "\n",
    "hypothesis = (opposite**2 + adjacent**2)**0.5"
   ]
  },
  {
   "cell_type": "code",
   "execution_count": 17,
   "id": "e3f2d065",
   "metadata": {},
   "outputs": [
    {
     "name": "stdout",
     "output_type": "stream",
     "text": [
      "12.206555615733702\n"
     ]
    }
   ],
   "source": [
    "print(hypothesis)"
   ]
  },
  {
   "cell_type": "code",
   "execution_count": 18,
   "id": "8b2fcf73",
   "metadata": {},
   "outputs": [],
   "source": [
    "import math"
   ]
  },
  {
   "cell_type": "code",
   "execution_count": 64,
   "id": "4f552953",
   "metadata": {},
   "outputs": [
    {
     "data": {
      "text/plain": [
       "0.15425144988758405"
      ]
     },
     "execution_count": 64,
     "metadata": {},
     "output_type": "execute_result"
    }
   ],
   "source": [
    "math.cos(30)"
   ]
  },
  {
   "cell_type": "code",
   "execution_count": 60,
   "id": "99f8cbf8",
   "metadata": {},
   "outputs": [
    {
     "data": {
      "text/plain": [
       "12.206555615733702"
      ]
     },
     "execution_count": 60,
     "metadata": {},
     "output_type": "execute_result"
    }
   ],
   "source": [
    "(opposite**2 + adjacent**2)**0.5"
   ]
  },
  {
   "cell_type": "code",
   "execution_count": 65,
   "id": "73c89a43",
   "metadata": {},
   "outputs": [],
   "source": [
    "## 2x**2 + 4x - 1"
   ]
  },
  {
   "cell_type": "code",
   "execution_count": 66,
   "id": "13fc751c",
   "metadata": {},
   "outputs": [],
   "source": [
    "a = 2\n",
    "b = 4\n",
    "c = -1"
   ]
  },
  {
   "cell_type": "code",
   "execution_count": 67,
   "id": "2e5b774b",
   "metadata": {},
   "outputs": [],
   "source": [
    "first_answer = (-b + (b**2 - 4*a*c)**0.5)/(2*a)\n",
    "second_answer = (-b  - (b**2 - 4*a*c)**0.5)/(2*a)"
   ]
  },
  {
   "cell_type": "code",
   "execution_count": 68,
   "id": "5a7d2b57",
   "metadata": {},
   "outputs": [
    {
     "name": "stdout",
     "output_type": "stream",
     "text": [
      "0.22474487139158894\n"
     ]
    }
   ],
   "source": [
    "print(first_answer)"
   ]
  },
  {
   "cell_type": "code",
   "execution_count": 69,
   "id": "023f62e9",
   "metadata": {},
   "outputs": [
    {
     "name": "stdout",
     "output_type": "stream",
     "text": [
      "-2.224744871391589\n"
     ]
    }
   ],
   "source": [
    "print(second_answer)"
   ]
  },
  {
   "cell_type": "code",
   "execution_count": 73,
   "id": "30b3066b",
   "metadata": {},
   "outputs": [],
   "source": [
    "first_answer = (-b + math.sqrt(b**2 - 4*a*c))/(2*a)\n",
    "second_answer = (-b - math.sqrt(b**2 - 4*a*c))/(2*a)"
   ]
  },
  {
   "cell_type": "code",
   "execution_count": 74,
   "id": "467d46a1",
   "metadata": {},
   "outputs": [
    {
     "data": {
      "text/plain": [
       "0.22474487139158894"
      ]
     },
     "execution_count": 74,
     "metadata": {},
     "output_type": "execute_result"
    }
   ],
   "source": [
    "first_answer"
   ]
  },
  {
   "cell_type": "code",
   "execution_count": 75,
   "id": "dbdd3016",
   "metadata": {},
   "outputs": [
    {
     "name": "stdout",
     "output_type": "stream",
     "text": [
      "-2.224744871391589\n"
     ]
    }
   ],
   "source": [
    "print(second_answer)"
   ]
  },
  {
   "cell_type": "code",
   "execution_count": 76,
   "id": "a890e3bd",
   "metadata": {},
   "outputs": [],
   "source": [
    "## Comparison Operators"
   ]
  },
  {
   "cell_type": "code",
   "execution_count": 77,
   "id": "1c93ebd7",
   "metadata": {},
   "outputs": [
    {
     "data": {
      "text/plain": [
       "89"
      ]
     },
     "execution_count": 77,
     "metadata": {},
     "output_type": "execute_result"
    }
   ],
   "source": [
    "first_boy"
   ]
  },
  {
   "cell_type": "code",
   "execution_count": 78,
   "id": "3971ec57",
   "metadata": {},
   "outputs": [
    {
     "data": {
      "text/plain": [
       "67"
      ]
     },
     "execution_count": 78,
     "metadata": {},
     "output_type": "execute_result"
    }
   ],
   "source": [
    "second_boy"
   ]
  },
  {
   "cell_type": "code",
   "execution_count": null,
   "id": "39a82e5a",
   "metadata": {},
   "outputs": [],
   "source": [
    "# Greater than\n",
    "# Less than\n",
    "# Equal\n",
    "# Greater than or equal\n",
    "# Less than or equal\n",
    "# Not Equal"
   ]
  },
  {
   "cell_type": "code",
   "execution_count": 79,
   "id": "e1f27de3",
   "metadata": {},
   "outputs": [
    {
     "data": {
      "text/plain": [
       "True"
      ]
     },
     "execution_count": 79,
     "metadata": {},
     "output_type": "execute_result"
    }
   ],
   "source": [
    "# Greater than >\n",
    "first_boy > second_boy"
   ]
  },
  {
   "cell_type": "code",
   "execution_count": 80,
   "id": "8774bdd2",
   "metadata": {},
   "outputs": [
    {
     "data": {
      "text/plain": [
       "False"
      ]
     },
     "execution_count": 80,
     "metadata": {},
     "output_type": "execute_result"
    }
   ],
   "source": [
    "# Less than >\n",
    "first_boy < second_boy"
   ]
  },
  {
   "cell_type": "code",
   "execution_count": 83,
   "id": "b78d1a80",
   "metadata": {},
   "outputs": [
    {
     "data": {
      "text/plain": [
       "False"
      ]
     },
     "execution_count": 83,
     "metadata": {},
     "output_type": "execute_result"
    }
   ],
   "source": [
    "# Equal\n",
    "first_boy == second_boy"
   ]
  },
  {
   "cell_type": "code",
   "execution_count": 81,
   "id": "769a81d5",
   "metadata": {},
   "outputs": [
    {
     "data": {
      "text/plain": [
       "True"
      ]
     },
     "execution_count": 81,
     "metadata": {},
     "output_type": "execute_result"
    }
   ],
   "source": [
    "# Greater than or equal\n",
    "first_boy >= second_boy"
   ]
  },
  {
   "cell_type": "code",
   "execution_count": 82,
   "id": "8a2e54b5",
   "metadata": {},
   "outputs": [
    {
     "data": {
      "text/plain": [
       "False"
      ]
     },
     "execution_count": 82,
     "metadata": {},
     "output_type": "execute_result"
    }
   ],
   "source": [
    "# Less than or equal\n",
    "first_boy <= second_boy"
   ]
  },
  {
   "cell_type": "code",
   "execution_count": 84,
   "id": "4102a2ea",
   "metadata": {},
   "outputs": [
    {
     "data": {
      "text/plain": [
       "True"
      ]
     },
     "execution_count": 84,
     "metadata": {},
     "output_type": "execute_result"
    }
   ],
   "source": [
    "# Not Equal\n",
    "first_boy != second_boy"
   ]
  },
  {
   "cell_type": "code",
   "execution_count": null,
   "id": "405e7930",
   "metadata": {},
   "outputs": [],
   "source": []
  }
 ],
 "metadata": {
  "kernelspec": {
   "display_name": "Python [conda env:base] *",
   "language": "python",
   "name": "conda-base-py"
  },
  "language_info": {
   "codemirror_mode": {
    "name": "ipython",
    "version": 3
   },
   "file_extension": ".py",
   "mimetype": "text/x-python",
   "name": "python",
   "nbconvert_exporter": "python",
   "pygments_lexer": "ipython3",
   "version": "3.12.7"
  }
 },
 "nbformat": 4,
 "nbformat_minor": 5
}
