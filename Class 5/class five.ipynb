{
 "cells": [
  {
   "cell_type": "markdown",
   "id": "fbc1b44e-174f-4502-ade5-a18988e68dc2",
   "metadata": {},
   "source": [
    "#### Manipulating String"
   ]
  },
  {
   "cell_type": "code",
   "execution_count": 6,
   "id": "2247fe06-613d-4098-994a-2b3783843518",
   "metadata": {},
   "outputs": [],
   "source": [
    "name = \"Abayomi\""
   ]
  },
  {
   "cell_type": "markdown",
   "id": "eb9681f9-a07e-4143-8457-4fcb7e0b1ff4",
   "metadata": {},
   "source": [
    "**Slicing String**"
   ]
  },
  {
   "cell_type": "code",
   "execution_count": 3,
   "id": "cf525239-00de-407e-88d9-061a1bcd8954",
   "metadata": {},
   "outputs": [
    {
     "name": "stdout",
     "output_type": "stream",
     "text": [
      "A\n"
     ]
    }
   ],
   "source": [
    "first_char = name[0]\n",
    "print(first_char)"
   ]
  },
  {
   "cell_type": "code",
   "execution_count": 4,
   "id": "4976d07b-82f5-4b8d-8dc0-1194e1132d8a",
   "metadata": {},
   "outputs": [
    {
     "name": "stdout",
     "output_type": "stream",
     "text": [
      "y\n"
     ]
    }
   ],
   "source": [
    "new_slice = name[3]\n",
    "print(new_slice)"
   ]
  },
  {
   "cell_type": "markdown",
   "id": "10274ded-4188-4832-93ff-f73253e9cc52",
   "metadata": {},
   "source": [
    "**Slice From the Start**"
   ]
  },
  {
   "cell_type": "code",
   "execution_count": 8,
   "id": "0591e109-e41c-4385-9ec6-6c0b5c1f8103",
   "metadata": {},
   "outputs": [],
   "source": [
    "slice_from_the_start = name[:4]"
   ]
  },
  {
   "cell_type": "code",
   "execution_count": 9,
   "id": "8ff764fb-06a7-410c-9488-647f8fec39e4",
   "metadata": {},
   "outputs": [
    {
     "name": "stdout",
     "output_type": "stream",
     "text": [
      "Abay\n"
     ]
    }
   ],
   "source": [
    "print(slice_from_the_start)"
   ]
  },
  {
   "cell_type": "markdown",
   "id": "74f52705-915c-4721-9bed-3cf961d1cf76",
   "metadata": {},
   "source": [
    "**Slice To the End**"
   ]
  },
  {
   "cell_type": "code",
   "execution_count": 10,
   "id": "fcb78e95-10ae-4ffb-93a3-1fa0d0fc6411",
   "metadata": {},
   "outputs": [],
   "source": [
    "slice_to_the_end = name[3:]"
   ]
  },
  {
   "cell_type": "code",
   "execution_count": 11,
   "id": "d5aaaa6a-1ba0-4341-8c86-e85ead90683a",
   "metadata": {},
   "outputs": [
    {
     "name": "stdout",
     "output_type": "stream",
     "text": [
      "yomi\n"
     ]
    }
   ],
   "source": [
    "print(slice_to_the_end)"
   ]
  },
  {
   "cell_type": "markdown",
   "id": "f5c7ac59-7155-4951-8bdd-793f0ca8d9b8",
   "metadata": {},
   "source": [
    "**Slice in Between**"
   ]
  },
  {
   "cell_type": "code",
   "execution_count": 13,
   "id": "57b12620-0a06-420c-9418-bfb9133ec4cf",
   "metadata": {},
   "outputs": [
    {
     "name": "stdout",
     "output_type": "stream",
     "text": [
      "bayo\n"
     ]
    }
   ],
   "source": [
    "slice_in_between = name[1:5]\n",
    "print(slice_in_between)"
   ]
  },
  {
   "cell_type": "markdown",
   "id": "2150b117-8c48-4161-b00e-bd87b006b0ba",
   "metadata": {},
   "source": [
    "**Negative Index Slicing**"
   ]
  },
  {
   "cell_type": "code",
   "execution_count": 16,
   "id": "0f32950b-a188-495c-8246-ff219f8f19db",
   "metadata": {},
   "outputs": [
    {
     "data": {
      "text/plain": [
       "'Abayomi'"
      ]
     },
     "execution_count": 16,
     "metadata": {},
     "output_type": "execute_result"
    }
   ],
   "source": [
    "name"
   ]
  },
  {
   "cell_type": "code",
   "execution_count": 19,
   "id": "90f6c139-00d4-4e52-9145-afc21e493578",
   "metadata": {},
   "outputs": [
    {
     "name": "stdout",
     "output_type": "stream",
     "text": [
      "bayo\n"
     ]
    }
   ],
   "source": [
    "slice_in_between = name[-6:-2]\n",
    "print(slice_in_between)"
   ]
  },
  {
   "cell_type": "markdown",
   "id": "b7ee08cd-79e5-4f4f-9927-bfcb9fd02af2",
   "metadata": {},
   "source": [
    "**Write a program to print the last character of the name of a user. Use input to collect the user's name**"
   ]
  },
  {
   "cell_type": "code",
   "execution_count": 26,
   "id": "7d7c1261-1386-4e3b-9ee4-b09f91ee932f",
   "metadata": {},
   "outputs": [
    {
     "name": "stdin",
     "output_type": "stream",
     "text": [
      "Please enter your name Portia\n"
     ]
    }
   ],
   "source": [
    "user_name = input('Please enter your name')"
   ]
  },
  {
   "cell_type": "code",
   "execution_count": 27,
   "id": "85122424-face-4fac-8fd3-a1cb1fc7bd5d",
   "metadata": {},
   "outputs": [
    {
     "name": "stdout",
     "output_type": "stream",
     "text": [
      "a\n"
     ]
    }
   ],
   "source": [
    "print(user_name[-1])"
   ]
  },
  {
   "cell_type": "markdown",
   "id": "69358693-f871-4af4-b542-8a101410bfe0",
   "metadata": {},
   "source": [
    "### Modifying String"
   ]
  },
  {
   "cell_type": "code",
   "execution_count": 28,
   "id": "6073078d-dcef-41b6-b5a5-0ea9b936c539",
   "metadata": {},
   "outputs": [
    {
     "data": {
      "text/plain": [
       "'Abayomi'"
      ]
     },
     "execution_count": 28,
     "metadata": {},
     "output_type": "execute_result"
    }
   ],
   "source": [
    "name"
   ]
  },
  {
   "cell_type": "code",
   "execution_count": 29,
   "id": "f21607de-a54d-4376-8a24-9e992b0a01f0",
   "metadata": {},
   "outputs": [
    {
     "name": "stdout",
     "output_type": "stream",
     "text": [
      "ABAYOMI\n"
     ]
    }
   ],
   "source": [
    "## Uppercase\n",
    "new_name = name.upper()\n",
    "print(new_name)"
   ]
  },
  {
   "cell_type": "code",
   "execution_count": 30,
   "id": "5099c916-1fce-473b-82fb-ebd2daeb157e",
   "metadata": {},
   "outputs": [
    {
     "name": "stdout",
     "output_type": "stream",
     "text": [
      "abayomi\n"
     ]
    }
   ],
   "source": [
    "## Lowercase\n",
    "new_name = name.lower()\n",
    "print(new_name)"
   ]
  },
  {
   "cell_type": "code",
   "execution_count": 34,
   "id": "d0136832-bfe0-4f9c-8525-5dec035f23a5",
   "metadata": {},
   "outputs": [
    {
     "name": "stdout",
     "output_type": "stream",
     "text": [
      "Abayomi\n"
     ]
    }
   ],
   "source": [
    "## Title\n",
    "new_name = name.title()\n",
    "print(new_name)"
   ]
  },
  {
   "cell_type": "code",
   "execution_count": 39,
   "id": "79c467b0-295e-47a4-8e00-e89d7af3647e",
   "metadata": {},
   "outputs": [
    {
     "name": "stdout",
     "output_type": "stream",
     "text": [
      "    Federal University of Technology Akure\n"
     ]
    }
   ],
   "source": [
    "## Remove whitespace\n",
    "name_of_school = \"    Federal University of Technology Akure\"\n",
    "print(name_of_school)"
   ]
  },
  {
   "cell_type": "code",
   "execution_count": 40,
   "id": "b9cc9101-8983-4d4b-8317-12d337ff03ec",
   "metadata": {},
   "outputs": [
    {
     "data": {
      "text/plain": [
       "'Federal University of Technology Akure'"
      ]
     },
     "execution_count": 40,
     "metadata": {},
     "output_type": "execute_result"
    }
   ],
   "source": [
    "name_of_school.strip()"
   ]
  },
  {
   "cell_type": "code",
   "execution_count": 41,
   "id": "3fa20985-2d93-4c3a-b47b-78fd3b156c9f",
   "metadata": {},
   "outputs": [
    {
     "data": {
      "text/plain": [
       "'Abayomi'"
      ]
     },
     "execution_count": 41,
     "metadata": {},
     "output_type": "execute_result"
    }
   ],
   "source": [
    "## Replace String\n",
    "name"
   ]
  },
  {
   "cell_type": "code",
   "execution_count": 43,
   "id": "cba83ac7-edb7-49d2-9cba-441a18c9b33f",
   "metadata": {},
   "outputs": [],
   "source": [
    "new_name = name.replace(\"y\", \"u\")"
   ]
  },
  {
   "cell_type": "code",
   "execution_count": 44,
   "id": "c48d9934-5568-4f54-9a78-d9d3289f5493",
   "metadata": {},
   "outputs": [
    {
     "data": {
      "text/plain": [
       "'Abauomi'"
      ]
     },
     "execution_count": 44,
     "metadata": {},
     "output_type": "execute_result"
    }
   ],
   "source": [
    "new_name"
   ]
  },
  {
   "cell_type": "markdown",
   "id": "2d713df0-8b49-457d-8c94-cacd86f50314",
   "metadata": {},
   "source": [
    "## Assignment\n",
    "**Write a python program that collects the firstname, middlename, and lastname of a student and prints out their initials and surname**\n",
    "- For example : \n",
    "    - Firstname -> Kolawole \n",
    "    - Middlename -> Joshua \n",
    "    - Lastname -> Samuel\n",
    "\n",
    "    **Output** :  K.J. Samuel"
   ]
  },
  {
   "cell_type": "code",
   "execution_count": null,
   "id": "a8cc2d96-174b-446a-9151-71a0b7217d89",
   "metadata": {},
   "outputs": [],
   "source": []
  }
 ],
 "metadata": {
  "kernelspec": {
   "display_name": "Python [conda env:base] *",
   "language": "python",
   "name": "conda-base-py"
  },
  "language_info": {
   "codemirror_mode": {
    "name": "ipython",
    "version": 3
   },
   "file_extension": ".py",
   "mimetype": "text/x-python",
   "name": "python",
   "nbconvert_exporter": "python",
   "pygments_lexer": "ipython3",
   "version": "3.12.7"
  }
 },
 "nbformat": 4,
 "nbformat_minor": 5
}
