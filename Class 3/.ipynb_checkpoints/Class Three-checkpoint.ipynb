{
 "cells": [
  {
   "cell_type": "code",
   "execution_count": null,
   "id": "4fbcb0be-3938-4eaf-83dc-31082209ae16",
   "metadata": {},
   "outputs": [],
   "source": [
    "#num = [23,4,5,6,75]\n",
    "#age = 34"
   ]
  },
  {
   "cell_type": "markdown",
   "id": "0017a53a-191c-4de2-acec-9b333cbd648e",
   "metadata": {},
   "source": [
    "### Flow Control\n",
    "**Python if...else**"
   ]
  },
  {
   "cell_type": "code",
   "execution_count": 90,
   "id": "edebda88-e7ee-4221-bd81-a9ba7fc0c800",
   "metadata": {},
   "outputs": [
    {
     "name": "stdin",
     "output_type": "stream",
     "text": [
      "Please enter your age. Only number please! 14\n"
     ]
    }
   ],
   "source": [
    "age = input(\"Please enter your age. Only number please!\")"
   ]
  },
  {
   "cell_type": "code",
   "execution_count": 91,
   "id": "11bf705e-3c9a-4401-a0bc-4a3af3bddf08",
   "metadata": {},
   "outputs": [
    {
     "name": "stdin",
     "output_type": "stream",
     "text": [
      "Please enter your height in numbers only 12\n"
     ]
    }
   ],
   "source": [
    "height = input(\"Please enter your height in numbers only\")"
   ]
  },
  {
   "cell_type": "code",
   "execution_count": 106,
   "id": "0c95f3b9-60cb-4818-b081-815d9ed8a6ff",
   "metadata": {},
   "outputs": [
    {
     "name": "stdin",
     "output_type": "stream",
     "text": [
      "Do you have parent approval? Yes or No YES\n"
     ]
    }
   ],
   "source": [
    "parent_approval = input(\"Do you have parent approval? Yes or No\")"
   ]
  },
  {
   "cell_type": "code",
   "execution_count": 107,
   "id": "a3ad0aaa-2640-48c9-8278-47e1206ffe47",
   "metadata": {},
   "outputs": [],
   "source": [
    "parent_approval = parent_approval.lower()"
   ]
  },
  {
   "cell_type": "code",
   "execution_count": 108,
   "id": "5e1d94f3-1c59-40f3-8086-2438402787df",
   "metadata": {},
   "outputs": [
    {
     "data": {
      "text/plain": [
       "'yes'"
      ]
     },
     "execution_count": 108,
     "metadata": {},
     "output_type": "execute_result"
    }
   ],
   "source": [
    "parent_approval "
   ]
  },
  {
   "cell_type": "code",
   "execution_count": 92,
   "id": "7e9ff76f-2220-42eb-a90b-3ef10fce571d",
   "metadata": {},
   "outputs": [
    {
     "name": "stdout",
     "output_type": "stream",
     "text": [
      "14\n"
     ]
    }
   ],
   "source": [
    "print(age)"
   ]
  },
  {
   "cell_type": "code",
   "execution_count": 93,
   "id": "b0103016-ac37-4d55-b544-93c3b2705035",
   "metadata": {},
   "outputs": [
    {
     "data": {
      "text/plain": [
       "str"
      ]
     },
     "execution_count": 93,
     "metadata": {},
     "output_type": "execute_result"
    }
   ],
   "source": [
    "type(age)"
   ]
  },
  {
   "cell_type": "code",
   "execution_count": 94,
   "id": "b3f968b3-8756-40a4-ac38-aa7dcf9a68d1",
   "metadata": {},
   "outputs": [],
   "source": [
    "# casting to convert the string to integer\n",
    "age = int(age)"
   ]
  },
  {
   "cell_type": "code",
   "execution_count": 95,
   "id": "0b5ecfeb-7f60-41cd-8af4-4a0587ce3e60",
   "metadata": {},
   "outputs": [],
   "source": [
    "# casting to convert our height to float\n",
    "height = float(height)"
   ]
  },
  {
   "cell_type": "code",
   "execution_count": 96,
   "id": "3e02ae3c-6ef4-43fc-bcd6-a6af1fa295ef",
   "metadata": {},
   "outputs": [
    {
     "data": {
      "text/plain": [
       "int"
      ]
     },
     "execution_count": 96,
     "metadata": {},
     "output_type": "execute_result"
    }
   ],
   "source": [
    "type(age)"
   ]
  },
  {
   "cell_type": "code",
   "execution_count": 97,
   "id": "2d879e39-afe2-4d08-b414-10205c89b010",
   "metadata": {},
   "outputs": [
    {
     "data": {
      "text/plain": [
       "float"
      ]
     },
     "execution_count": 97,
     "metadata": {},
     "output_type": "execute_result"
    }
   ],
   "source": [
    "type(height)"
   ]
  },
  {
   "cell_type": "code",
   "execution_count": 98,
   "id": "01ee610f-e78d-4304-87a0-683439592023",
   "metadata": {},
   "outputs": [
    {
     "data": {
      "text/plain": [
       "False"
      ]
     },
     "execution_count": 98,
     "metadata": {},
     "output_type": "execute_result"
    }
   ],
   "source": [
    "age > 18"
   ]
  },
  {
   "cell_type": "code",
   "execution_count": 99,
   "id": "9554e2e8-6c06-4fa2-9d69-a09e1caaeee6",
   "metadata": {},
   "outputs": [
    {
     "data": {
      "text/plain": [
       "False"
      ]
     },
     "execution_count": 99,
     "metadata": {},
     "output_type": "execute_result"
    }
   ],
   "source": [
    "True and True"
   ]
  },
  {
   "cell_type": "code",
   "execution_count": 74,
   "id": "2d972259-3068-4af7-a40c-2e20e4d19c4b",
   "metadata": {},
   "outputs": [
    {
     "data": {
      "text/plain": [
       "False"
      ]
     },
     "execution_count": 74,
     "metadata": {},
     "output_type": "execute_result"
    }
   ],
   "source": [
    "age > 18 and height > 10"
   ]
  },
  {
   "cell_type": "code",
   "execution_count": 101,
   "id": "9c08fd71-9a52-452a-b6ad-9864673a7f4a",
   "metadata": {},
   "outputs": [
    {
     "data": {
      "text/plain": [
       "12.0"
      ]
     },
     "execution_count": 101,
     "metadata": {},
     "output_type": "execute_result"
    }
   ],
   "source": [
    "height"
   ]
  },
  {
   "cell_type": "markdown",
   "id": "10d36757-fcab-40ef-b502-ea3acf7c7649",
   "metadata": {},
   "source": [
    "**Introduction to if**"
   ]
  },
  {
   "cell_type": "code",
   "execution_count": 75,
   "id": "9dfda834-4f40-46f1-a9ee-ab1557dd833f",
   "metadata": {},
   "outputs": [],
   "source": [
    "if age > 18:\n",
    "    #action\n",
    "    print(\"You are welcome to my Party\")"
   ]
  },
  {
   "cell_type": "markdown",
   "id": "efb06e2f-1688-4b3a-9960-dfa46f026b2f",
   "metadata": {},
   "source": [
    "**Introduction to if - elif**"
   ]
  },
  {
   "cell_type": "code",
   "execution_count": 76,
   "id": "e7cccda6-8d00-4269-bca4-6b40f3fe05ad",
   "metadata": {},
   "outputs": [],
   "source": [
    "if age > 18:\n",
    "    #action\n",
    "    print(\"You are welcome to my Party\")\n",
    "elif age < 18:\n",
    "    #action\n",
    "    print(\"Oh sorry! This party is only meant for adult\")"
   ]
  },
  {
   "cell_type": "markdown",
   "id": "5180dc7e-4c04-4b7e-a62a-16e84a962050",
   "metadata": {},
   "source": [
    "**Introduction to if - else**"
   ]
  },
  {
   "cell_type": "code",
   "execution_count": 77,
   "id": "0b8992f3-f6f5-4ad4-a7e8-e173e85480d0",
   "metadata": {},
   "outputs": [
    {
     "name": "stdout",
     "output_type": "stream",
     "text": [
      "Sorry you don't meet any of our criteria\n"
     ]
    }
   ],
   "source": [
    "if age > 18:\n",
    "    #action\n",
    "    print(\"You are welcome to my Party\")\n",
    "else:\n",
    "    #action\n",
    "    print(\"Sorry you don't meet any of our criteria\")"
   ]
  },
  {
   "cell_type": "code",
   "execution_count": null,
   "id": "59db8c2a-21a0-4201-beb4-f4a063e2ab4a",
   "metadata": {},
   "outputs": [],
   "source": []
  },
  {
   "cell_type": "markdown",
   "id": "73490267-8d0c-4f28-9403-cf32181bc34b",
   "metadata": {},
   "source": [
    "**Introduction to if - elif - elif**"
   ]
  },
  {
   "cell_type": "code",
   "execution_count": 78,
   "id": "2c04eb05-cc91-40b9-8563-b73f7a9fdf95",
   "metadata": {},
   "outputs": [
    {
     "name": "stdout",
     "output_type": "stream",
     "text": [
      "Oh my dear. Kindly come next year. You will be 19 by then\n"
     ]
    }
   ],
   "source": [
    "if age > 18:\n",
    "    #action\n",
    "    print(\"You are welcome to my Party\")\n",
    "elif age < 18:\n",
    "    #action\n",
    "    print(\"Oh sorry! This party is only meant for adult\")\n",
    "elif age == 18:\n",
    "    # action\n",
    "    print(\"Oh my dear. Kindly come next year. You will be 19 by then\")"
   ]
  },
  {
   "cell_type": "markdown",
   "id": "6ac499a0-4c35-4c79-b012-8acabd1daee5",
   "metadata": {},
   "source": [
    "### TRUTH TABLE"
   ]
  },
  {
   "cell_type": "code",
   "execution_count": 79,
   "id": "6dd59478-a910-480a-b094-2df54c5046aa",
   "metadata": {},
   "outputs": [
    {
     "data": {
      "text/plain": [
       "True"
      ]
     },
     "execution_count": 79,
     "metadata": {},
     "output_type": "execute_result"
    }
   ],
   "source": [
    "## OR TABLE\n",
    "True or False"
   ]
  },
  {
   "cell_type": "code",
   "execution_count": 80,
   "id": "314a5c0d-cb18-49eb-96d2-10fa9ce59a55",
   "metadata": {},
   "outputs": [
    {
     "data": {
      "text/plain": [
       "True"
      ]
     },
     "execution_count": 80,
     "metadata": {},
     "output_type": "execute_result"
    }
   ],
   "source": [
    "False or True"
   ]
  },
  {
   "cell_type": "code",
   "execution_count": 81,
   "id": "7c748275-d353-4e3f-b42a-2cd1ef9db847",
   "metadata": {},
   "outputs": [
    {
     "data": {
      "text/plain": [
       "True"
      ]
     },
     "execution_count": 81,
     "metadata": {},
     "output_type": "execute_result"
    }
   ],
   "source": [
    "True or True"
   ]
  },
  {
   "cell_type": "code",
   "execution_count": 82,
   "id": "713f7211-274d-44a1-b42c-31f366c67e7d",
   "metadata": {},
   "outputs": [
    {
     "data": {
      "text/plain": [
       "False"
      ]
     },
     "execution_count": 82,
     "metadata": {},
     "output_type": "execute_result"
    }
   ],
   "source": [
    "False or False"
   ]
  },
  {
   "cell_type": "code",
   "execution_count": 83,
   "id": "aeaa9c08-a2f7-490e-b43b-3c6dbc9480d3",
   "metadata": {},
   "outputs": [],
   "source": [
    "## AND TABLE"
   ]
  },
  {
   "cell_type": "code",
   "execution_count": 84,
   "id": "c19bfd98-4c64-40d0-9af3-d35bb6350df0",
   "metadata": {},
   "outputs": [
    {
     "data": {
      "text/plain": [
       "True"
      ]
     },
     "execution_count": 84,
     "metadata": {},
     "output_type": "execute_result"
    }
   ],
   "source": [
    "True and True"
   ]
  },
  {
   "cell_type": "code",
   "execution_count": 85,
   "id": "790da4a6-296c-47d8-aa84-f2e71f6f7df2",
   "metadata": {},
   "outputs": [
    {
     "data": {
      "text/plain": [
       "False"
      ]
     },
     "execution_count": 85,
     "metadata": {},
     "output_type": "execute_result"
    }
   ],
   "source": [
    "True and False"
   ]
  },
  {
   "cell_type": "code",
   "execution_count": 86,
   "id": "9cdb8a15-c3dd-4fd7-b677-fefefda99863",
   "metadata": {},
   "outputs": [
    {
     "data": {
      "text/plain": [
       "False"
      ]
     },
     "execution_count": 86,
     "metadata": {},
     "output_type": "execute_result"
    }
   ],
   "source": [
    "False and True"
   ]
  },
  {
   "cell_type": "code",
   "execution_count": 87,
   "id": "eb4cbf0f-69e5-4162-bc7c-96887cac1a09",
   "metadata": {},
   "outputs": [
    {
     "data": {
      "text/plain": [
       "False"
      ]
     },
     "execution_count": 87,
     "metadata": {},
     "output_type": "execute_result"
    }
   ],
   "source": [
    "False and False"
   ]
  },
  {
   "cell_type": "code",
   "execution_count": 88,
   "id": "f713051f-3b59-4f94-b0ea-875da491316d",
   "metadata": {},
   "outputs": [
    {
     "data": {
      "text/plain": [
       "False"
      ]
     },
     "execution_count": 88,
     "metadata": {},
     "output_type": "execute_result"
    }
   ],
   "source": [
    "## Not Table\n",
    "not True"
   ]
  },
  {
   "cell_type": "code",
   "execution_count": 89,
   "id": "e9d48298-70b1-43f2-8109-915720e14083",
   "metadata": {},
   "outputs": [
    {
     "data": {
      "text/plain": [
       "True"
      ]
     },
     "execution_count": 89,
     "metadata": {},
     "output_type": "execute_result"
    }
   ],
   "source": [
    "not False"
   ]
  },
  {
   "cell_type": "markdown",
   "id": "5f3c03f7-0d56-41a5-a43c-1167338a4333",
   "metadata": {},
   "source": [
    "#### Dealing more than TWO conditions"
   ]
  },
  {
   "cell_type": "code",
   "execution_count": 102,
   "id": "c2909db3-b5ea-4426-b3ab-77fd5b951b7d",
   "metadata": {},
   "outputs": [
    {
     "name": "stdout",
     "output_type": "stream",
     "text": [
      "Sorry, something must be wrong\n"
     ]
    }
   ],
   "source": [
    "if (age > 18) and (height > 10):\n",
    "    #action\n",
    "    print(\"You are welcome to my Party\")\n",
    "elif (age < 18) and (height < 10):\n",
    "    #action\n",
    "    print(\"Oh sorry! This party is only meant for adult...Please eat more eat to beans as you grow\")\n",
    "elif (age == 18) and (height < 10):\n",
    "    # action\n",
    "    print(\"Just one year to go, hwoever, there seems to be problem with your height also\")\n",
    "elif (age > 18) and (height < 10):\n",
    "    # action\n",
    "    print(\"I am sorry, your height disqualifies you\")\n",
    "else:\n",
    "    print(\"Sorry, something must be wrong\")"
   ]
  },
  {
   "cell_type": "code",
   "execution_count": 110,
   "id": "786cc6c5-c75c-4b43-8d63-d0aadb88a396",
   "metadata": {},
   "outputs": [
    {
     "data": {
      "text/plain": [
       "False"
      ]
     },
     "execution_count": 110,
     "metadata": {},
     "output_type": "execute_result"
    }
   ],
   "source": [
    "parent_approval == 'no'"
   ]
  },
  {
   "cell_type": "markdown",
   "id": "1938469d-1cac-4603-914f-1b857135429e",
   "metadata": {},
   "source": [
    "#### Dealing more than THREE conditions"
   ]
  },
  {
   "cell_type": "code",
   "execution_count": 112,
   "id": "8ddd6593-b38a-48f6-a62d-fe0dc2a238a2",
   "metadata": {},
   "outputs": [
    {
     "name": "stdout",
     "output_type": "stream",
     "text": [
      "You are welcome to my party\n"
     ]
    }
   ],
   "source": [
    "if (age > 18) and (height > 10):\n",
    "    #action\n",
    "    print(\"You are welcome to my Party\")\n",
    "elif (age < 18) and (height > 10) and (parent_approval == 'yes'):\n",
    "    # action\n",
    "    print(\"You are welcome to my party\")\n",
    "elif (age < 18) and (height > 10) and (parent_approval == 'no'):\n",
    "    # action\n",
    "    print(\"Can you go back home to get approval from your parent\")\n",
    "elif (age < 18) and (height < 10):\n",
    "    #action\n",
    "    print(\"Oh sorry! This party is only meant for adult...Please eat more eat to beans as you grow\")\n",
    "elif (age == 18) and (height < 10):\n",
    "    # action\n",
    "    print(\"Just one year to go, hwoever, there seems to be problem with your height also\")\n",
    "elif (age > 18) and (height < 10):\n",
    "    # action\n",
    "    print(\"I am sorry, your height disqualifies you\")\n",
    "else:\n",
    "    pass"
   ]
  },
  {
   "cell_type": "markdown",
   "id": "f8eea88b-550d-4b93-b758-db20ab58d4b9",
   "metadata": {},
   "source": [
    "### Nexted IF"
   ]
  },
  {
   "cell_type": "code",
   "execution_count": null,
   "id": "b7f99f9e-0a17-4e96-9c79-465a7147fbf8",
   "metadata": {},
   "outputs": [],
   "source": [
    "if height > 10:\n",
    "    if (age > 18) or (parent_approval == 'yes'):\n",
    "        print(\"You are welcome to my party\")\n",
    "    elif (parent_approval == 'no') and (age < 18):\n",
    "        print(\"Can you go back home to get approval from your parent\")\n",
    "    else:\n",
    "        pass\n",
    "elif height < 10:\n",
    "    if age < 18:\n",
    "        print(\"Oh sorry! This party is only meant for adult...Please eat more eat to beans as you grow\")\n",
    "    elif age == 18:\n",
    "        print(\"Just one year to go, hwoever, there seems to be problem with your height also\")\n",
    "    elif age > 18:\n",
    "        print(\"I am sorry, your height disqualifies you\")\n",
    "    else:\n",
    "        pass"
   ]
  },
  {
   "cell_type": "code",
   "execution_count": 121,
   "id": "b4e27845-ae95-4a25-9dbf-0d7aebd4eae1",
   "metadata": {},
   "outputs": [
    {
     "data": {
      "text/plain": [
       "False"
      ]
     },
     "execution_count": 121,
     "metadata": {},
     "output_type": "execute_result"
    }
   ],
   "source": [
    "a = 78\n",
    "not a >= 40"
   ]
  },
  {
   "cell_type": "code",
   "execution_count": 116,
   "id": "00c670ce-c506-4496-836f-87aa36ac0b7f",
   "metadata": {},
   "outputs": [
    {
     "name": "stdout",
     "output_type": "stream",
     "text": [
      "YES\n"
     ]
    }
   ],
   "source": [
    "print(relationship)"
   ]
  },
  {
   "cell_type": "code",
   "execution_count": 119,
   "id": "0c3ee3c0-0a5e-457a-b8b0-e39909ff5068",
   "metadata": {},
   "outputs": [
    {
     "name": "stdin",
     "output_type": "stream",
     "text": [
      "Do you have an inivitation card. Yes or No No\n",
      "Do you know the bride or the groom. Yes or No No\n"
     ]
    },
    {
     "name": "stdout",
     "output_type": "stream",
     "text": [
      "Please go home. No free food here\n"
     ]
    }
   ],
   "source": [
    "iv = input(\"Do you have an inivitation card. Yes or No\")\n",
    "iv = iv.upper()\n",
    "if iv == \"YES\":\n",
    "    print(\"You can go in!\")\n",
    "elif iv == \"NO\":\n",
    "    relationship = input(\"Do you know the bride or the groom. Yes or No\")\n",
    "    relationship = relationship.upper()\n",
    "    if relationship == \"YES\":\n",
    "        print(\"You can go in!\")\n",
    "    else:\n",
    "        print(\"Please go home. No free food here\")"
   ]
  },
  {
   "cell_type": "code",
   "execution_count": null,
   "id": "c3986de1-b164-4954-b515-52854641c3f6",
   "metadata": {},
   "outputs": [],
   "source": []
  },
  {
   "cell_type": "markdown",
   "id": "07fc33f9-cbc3-4867-a1dc-54b34e8d3873",
   "metadata": {},
   "source": [
    "## Identity Operators"
   ]
  },
  {
   "cell_type": "code",
   "execution_count": 133,
   "id": "4baceba7-d12c-4955-991b-0f9d7346b4ee",
   "metadata": {},
   "outputs": [
    {
     "data": {
      "text/plain": [
       "True"
      ]
     },
     "execution_count": 133,
     "metadata": {},
     "output_type": "execute_result"
    }
   ],
   "source": [
    "# is \n",
    "# is not\n",
    "x = 3\n",
    "y = 3\n",
    "\n",
    "x == y"
   ]
  },
  {
   "cell_type": "markdown",
   "id": "5f0dfd26-e954-4ea2-9358-1a9e95a37edc",
   "metadata": {},
   "source": [
    "## Membership Operators"
   ]
  },
  {
   "cell_type": "code",
   "execution_count": 123,
   "id": "40d8888b-81da-4781-8ce1-f71f5edfcb3a",
   "metadata": {},
   "outputs": [
    {
     "data": {
      "text/plain": [
       "True"
      ]
     },
     "execution_count": 123,
     "metadata": {},
     "output_type": "execute_result"
    }
   ],
   "source": [
    "# in\n",
    "# not in\n",
    "fav_numbers = [23, 56, 78, 89]\n",
    "89 in fav_numbers"
   ]
  },
  {
   "cell_type": "code",
   "execution_count": 124,
   "id": "07222e54-cd52-445b-95bd-daed52ac9d0f",
   "metadata": {},
   "outputs": [
    {
     "data": {
      "text/plain": [
       "False"
      ]
     },
     "execution_count": 124,
     "metadata": {},
     "output_type": "execute_result"
    }
   ],
   "source": [
    "89 not in fav_numbers"
   ]
  },
  {
   "cell_type": "code",
   "execution_count": 130,
   "id": "d0837c6e-050a-487a-8ea3-4a39a401d979",
   "metadata": {},
   "outputs": [],
   "source": [
    "my_guest_list = [\"bayo\", \"dayo\", \"layo\"]"
   ]
  },
  {
   "cell_type": "code",
   "execution_count": 131,
   "id": "6b059579-eb0d-4d4c-8a69-25266b2666d0",
   "metadata": {},
   "outputs": [
    {
     "name": "stdin",
     "output_type": "stream",
     "text": [
      "Please enter your name BAYO\n"
     ]
    },
    {
     "name": "stdout",
     "output_type": "stream",
     "text": [
      "bayo\n",
      "Please come in\n"
     ]
    }
   ],
   "source": [
    "guest_name = input(\"Please enter your name\")\n",
    "guest_name = guest_name.lower()\n",
    "\n",
    "if guest_name in my_guest_list:\n",
    "    print(\"Please come in\")\n",
    "else:\n",
    "    print(\"You are not invited at all\")"
   ]
  },
  {
   "cell_type": "markdown",
   "id": "793aa4bb-8007-4738-9da2-0bc6bef50093",
   "metadata": {},
   "source": [
    "### Assignment"
   ]
  },
  {
   "cell_type": "code",
   "execution_count": null,
   "id": "f5fdb4a5-b360-44d0-a2ce-86ac85ba4d96",
   "metadata": {},
   "outputs": [],
   "source": [
    "1. Collect age of 4 brothers. Write a python program to assign the inheritance of a father to any of them. Usually the eldest inherits.\n",
    "2. Mr A hates any initials with letter A. Collect the initials of attendee to a party to prevent such people from coming in."
   ]
  }
 ],
 "metadata": {
  "kernelspec": {
   "display_name": "Python [conda env:base] *",
   "language": "python",
   "name": "conda-base-py"
  },
  "language_info": {
   "codemirror_mode": {
    "name": "ipython",
    "version": 3
   },
   "file_extension": ".py",
   "mimetype": "text/x-python",
   "name": "python",
   "nbconvert_exporter": "python",
   "pygments_lexer": "ipython3",
   "version": "3.12.7"
  }
 },
 "nbformat": 4,
 "nbformat_minor": 5
}
