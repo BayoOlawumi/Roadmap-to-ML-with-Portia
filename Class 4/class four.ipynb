{
 "cells": [
  {
   "cell_type": "markdown",
   "id": "cbd5e507-68a5-4e38-80cf-82f56fef1d0a",
   "metadata": {},
   "source": [
    "### Iterations"
   ]
  },
  {
   "cell_type": "code",
   "execution_count": 3,
   "id": "23e3a5bb-2e87-4d16-9df1-a6f7a7901adf",
   "metadata": {},
   "outputs": [],
   "source": [
    "name = \"Bayo\"\n",
    "age =  70\n",
    "height = 8.7"
   ]
  },
  {
   "cell_type": "code",
   "execution_count": 24,
   "id": "2d5e6ff7-0995-43b0-b1e0-09bccf9cbce0",
   "metadata": {},
   "outputs": [],
   "source": [
    "num1 = 40\n",
    "num2 = 40\n",
    "### PEDMAS"
   ]
  },
  {
   "cell_type": "code",
   "execution_count": null,
   "id": "fc91133d-5288-4aea-846e-cf5ff79468e6",
   "metadata": {},
   "outputs": [],
   "source": [
    "True\n",
    "False"
   ]
  },
  {
   "cell_type": "code",
   "execution_count": 7,
   "id": "538fe10a-2b5e-4929-99cc-d7469b09b909",
   "metadata": {},
   "outputs": [
    {
     "data": {
      "text/plain": [
       "True"
      ]
     },
     "execution_count": 7,
     "metadata": {},
     "output_type": "execute_result"
    }
   ],
   "source": [
    "num2 > num1"
   ]
  },
  {
   "cell_type": "code",
   "execution_count": 25,
   "id": "54e89922-d1b1-4840-9892-5de7d8a4c095",
   "metadata": {},
   "outputs": [
    {
     "name": "stdout",
     "output_type": "stream",
     "text": [
      "I do not know where you belong\n"
     ]
    }
   ],
   "source": [
    "if num2 > num1:\n",
    "    print(\"Kill my enemies\")\n",
    "    print(\"Bring me my dinner\")\n",
    "    print(\"See you later\")\n",
    "elif num2 < num1:\n",
    "    print(\"Num2 is less than Num1\")\n",
    "else:\n",
    "    print('I do not know where you belong')"
   ]
  },
  {
   "cell_type": "markdown",
   "id": "0f025e5b-1416-4e47-9e7b-2216089aff08",
   "metadata": {},
   "source": [
    "## TRUTH TABLE\n",
    "- *or*\n",
    "- *and*"
   ]
  },
  {
   "cell_type": "markdown",
   "id": "18d4b52f-40d4-49cb-8ec9-ea5dce9d291b",
   "metadata": {},
   "source": [
    "#### OR"
   ]
  },
  {
   "cell_type": "code",
   "execution_count": null,
   "id": "a8825f2a-a8d4-4566-b0e7-f77143c43687",
   "metadata": {},
   "outputs": [],
   "source": [
    "# A OR B \n",
    "# You only have false when A and B are False"
   ]
  },
  {
   "cell_type": "markdown",
   "id": "fd64007c-5d8b-47eb-a0c5-1cde8679219c",
   "metadata": {},
   "source": [
    "#### AND"
   ]
  },
  {
   "cell_type": "code",
   "execution_count": null,
   "id": "abbd5098-b029-487e-a465-e9c7ef7a4fce",
   "metadata": {},
   "outputs": [],
   "source": [
    "# A and B\n",
    "# You only have True when A and B are True"
   ]
  },
  {
   "cell_type": "markdown",
   "id": "3e37cdca-77ab-47a0-848f-84734c744130",
   "metadata": {},
   "source": [
    "### Basic to revise conditional Statements"
   ]
  },
  {
   "cell_type": "markdown",
   "id": "2e3212fa-9937-4dd4-af60-22f9017f05a0",
   "metadata": {},
   "source": [
    "**Write a Python script that collects the temperature of the day and the plan of a client to help determine what to go out with**"
   ]
  },
  {
   "cell_type": "code",
   "execution_count": null,
   "id": "8d2aef53-a66e-4a14-95f2-fe108bf14efe",
   "metadata": {},
   "outputs": [],
   "source": [
    "# temp = 32.6\n",
    "# plan = \"Yes\" "
   ]
  },
  {
   "cell_type": "code",
   "execution_count": 32,
   "id": "7d3df291-e632-46d0-b722-1c02220b1e36",
   "metadata": {},
   "outputs": [
    {
     "name": "stdin",
     "output_type": "stream",
     "text": [
      "What is the temperature like today in your country?  30\n",
      "Are you planning to go out today ? Yes or No  yES\n"
     ]
    },
    {
     "name": "stdout",
     "output_type": "stream",
     "text": [
      "We have a good weather out there. Enjoy!\n"
     ]
    }
   ],
   "source": [
    "# Collecting input data from users\n",
    "temp = input(\"What is the temperature like today in your country? \")\n",
    "plan = input(\"Are you planning to go out today ? Yes or No \")\n",
    "\n",
    "# Casting our data type\n",
    "temp = float(temp)\n",
    "plan = plan.lower()\n",
    "\n",
    "# Conditional Statements\n",
    "if temp <= 20 and plan == \"yes\":\n",
    "    print(\"Take your umbrella and jacket\")\n",
    "elif temp <= 20 and plan == \"no\":\n",
    "    print(\"Put on the heater\")\n",
    "elif temp > 20 and plan == \"yes\":\n",
    "    print(\"We have a good weather out there. Enjoy!\")\n",
    "else:\n",
    "    print(\"No comment\")"
   ]
  },
  {
   "cell_type": "markdown",
   "id": "63145539-f33d-4c26-b357-5c72ceaaac44",
   "metadata": {},
   "source": [
    "**Updated format**"
   ]
  },
  {
   "cell_type": "code",
   "execution_count": 30,
   "id": "d4591787-3d73-430f-8618-89278f99af82",
   "metadata": {},
   "outputs": [
    {
     "data": {
      "text/plain": [
       "'GOD'"
      ]
     },
     "execution_count": 30,
     "metadata": {},
     "output_type": "execute_result"
    }
   ],
   "source": [
    "if temp <= 20:\n",
    "    if plan == \"yes\":\n",
    "        print(\"Take your umbrella and jacket\")\n",
    "    elif plan == \"no\":\n",
    "        print(\"Put on the heater\")\n",
    "elif temp > 20:\n",
    "    if plan == \"yes\":\n",
    "        print(\"We have a good weather out there. Enjoy!\")\n",
    "    elif plan == \"no\":\n",
    "        print(\"Get a good movie and watch\")\n",
    "else:\n",
    "    print(\"No comment\")"
   ]
  },
  {
   "cell_type": "markdown",
   "id": "d69a80a5-a2f6-4977-b1d8-4813ad49bb46",
   "metadata": {},
   "source": [
    "### While - Loop"
   ]
  },
  {
   "cell_type": "code",
   "execution_count": 34,
   "id": "fccacedd-2f2d-4954-9efa-2db73d11f508",
   "metadata": {},
   "outputs": [
    {
     "name": "stdout",
     "output_type": "stream",
     "text": [
      "Portia\n",
      "Portia\n",
      "Portia\n",
      "Portia\n",
      "Portia\n",
      "Portia\n",
      "Portia\n",
      "Portia\n",
      "Portia\n",
      "Portia\n"
     ]
    }
   ],
   "source": [
    "print(\"Portia\")\n",
    "print(\"Portia\")\n",
    "print(\"Portia\")\n",
    "print(\"Portia\")\n",
    "print(\"Portia\")\n",
    "print(\"Portia\")\n",
    "print(\"Portia\")\n",
    "print(\"Portia\")\n",
    "print(\"Portia\")\n",
    "print(\"Portia\")"
   ]
  },
  {
   "cell_type": "code",
   "execution_count": null,
   "id": "200429ea-f6aa-4d23-807f-07beecdb1835",
   "metadata": {},
   "outputs": [],
   "source": [
    "#while condition:\n",
    "- #action statements"
   ]
  },
  {
   "cell_type": "code",
   "execution_count": 1,
   "id": "3a19b18c-6030-446b-8e75-ab6aa0508e22",
   "metadata": {},
   "outputs": [],
   "source": [
    "a = 0"
   ]
  },
  {
   "cell_type": "code",
   "execution_count": 2,
   "id": "9bf870d1-f75d-40b0-8946-ed812dafae0c",
   "metadata": {},
   "outputs": [
    {
     "data": {
      "text/plain": [
       "True"
      ]
     },
     "execution_count": 2,
     "metadata": {},
     "output_type": "execute_result"
    }
   ],
   "source": [
    "a < 10"
   ]
  },
  {
   "cell_type": "code",
   "execution_count": 40,
   "id": "a1f65df8-35af-424c-b2ce-899171501c58",
   "metadata": {},
   "outputs": [
    {
     "name": "stdout",
     "output_type": "stream",
     "text": [
      "0\n",
      "Portia\n",
      "1\n",
      "Portia\n",
      "2\n",
      "Portia\n",
      "3\n",
      "Portia\n",
      "4\n",
      "Portia\n",
      "5\n",
      "Portia\n",
      "6\n",
      "Portia\n",
      "7\n",
      "Portia\n",
      "8\n",
      "Portia\n",
      "9\n",
      "Portia\n"
     ]
    }
   ],
   "source": [
    "while a < 10:\n",
    "    print(a)\n",
    "    print(\"Portia\")\n",
    "    a = a + 1"
   ]
  },
  {
   "cell_type": "code",
   "execution_count": 41,
   "id": "2bd743b4-42d3-4d99-9071-80e292459b3e",
   "metadata": {},
   "outputs": [
    {
     "data": {
      "text/plain": [
       "1"
      ]
     },
     "execution_count": 41,
     "metadata": {},
     "output_type": "execute_result"
    }
   ],
   "source": [
    "7 % 2"
   ]
  },
  {
   "cell_type": "markdown",
   "id": "cf59a274-52b4-46cc-840e-4bcb5468b25e",
   "metadata": {},
   "source": [
    "**Break Statement**"
   ]
  },
  {
   "cell_type": "code",
   "execution_count": 46,
   "id": "60329e99-16dc-4f5f-abdd-75f5fdc81dfd",
   "metadata": {},
   "outputs": [
    {
     "name": "stdout",
     "output_type": "stream",
     "text": [
      "Portia\n",
      "Portia\n",
      "Portia\n",
      "Portia\n",
      "Thank you\n"
     ]
    }
   ],
   "source": [
    "a = 1\n",
    "while a < 10:\n",
    "    if a == 5:\n",
    "        break\n",
    "    print(\"Portia\")\n",
    "    a = a + 1\n",
    "print(\"Thank you\")"
   ]
  },
  {
   "cell_type": "markdown",
   "id": "a558731f-7c35-47d3-8095-0561b7105202",
   "metadata": {},
   "source": [
    "**Continue Statement**"
   ]
  },
  {
   "cell_type": "code",
   "execution_count": 3,
   "id": "2606f908-61fa-4eed-830c-a96fdb05082a",
   "metadata": {},
   "outputs": [
    {
     "name": "stdout",
     "output_type": "stream",
     "text": [
      "0\n",
      "Portia\n",
      "1\n",
      "Portia\n",
      "2\n",
      "Portia\n",
      "3\n",
      "Portia\n",
      "4\n",
      "5\n",
      "Portia\n",
      "6\n",
      "Portia\n",
      "7\n",
      "Portia\n",
      "8\n",
      "Portia\n",
      "9\n",
      "Portia\n",
      "Thank you\n"
     ]
    }
   ],
   "source": [
    "a = 0\n",
    "while a < 10:\n",
    "    print(a)\n",
    "    a = a + 1\n",
    "    if a == 5:\n",
    "        continue\n",
    "    print(\"Portia\")\n",
    "print(\"Thank you\")"
   ]
  },
  {
   "cell_type": "code",
   "execution_count": 55,
   "id": "892703a5-176c-48a1-b21d-d5da540a2ae3",
   "metadata": {},
   "outputs": [
    {
     "data": {
      "text/plain": [
       "range(1, 20)"
      ]
     },
     "execution_count": 55,
     "metadata": {},
     "output_type": "execute_result"
    }
   ],
   "source": [
    "range(1, 20)"
   ]
  },
  {
   "cell_type": "markdown",
   "id": "97391fd7-6315-4609-9a57-97c5fcd6636d",
   "metadata": {},
   "source": [
    "### For - Loop"
   ]
  },
  {
   "cell_type": "code",
   "execution_count": null,
   "id": "b0039401-6dea-4b95-bf79-6809f81b5107",
   "metadata": {},
   "outputs": [],
   "source": [
    "#for arbitriary_variable in items:\n",
    "    # action statements"
   ]
  },
  {
   "cell_type": "code",
   "execution_count": 69,
   "id": "9858c230-4a3a-405c-a7ba-a56b6fe6e679",
   "metadata": {},
   "outputs": [
    {
     "name": "stdout",
     "output_type": "stream",
     "text": [
      "0\n",
      "Portia\n",
      "1\n",
      "Portia\n",
      "2\n",
      "Portia\n",
      "3\n",
      "Portia\n",
      "4\n",
      "Portia\n",
      "5\n",
      "Portia\n",
      "6\n",
      "Portia\n",
      "7\n",
      "Portia\n",
      "8\n",
      "Portia\n",
      "9\n",
      "Portia\n",
      "10\n",
      "Portia\n"
     ]
    }
   ],
   "source": [
    "for a in range(11):\n",
    "    print(a)\n",
    "    # action statements\n",
    "    print(\"Portia\")"
   ]
  },
  {
   "cell_type": "code",
   "execution_count": 58,
   "id": "3eb56935-9f80-47e2-9a08-7f0ae14ea611",
   "metadata": {},
   "outputs": [
    {
     "name": "stdout",
     "output_type": "stream",
     "text": [
      "1\n",
      "Portia\n",
      "2\n",
      "Portia\n",
      "3\n",
      "Portia\n",
      "4\n",
      "Portia\n",
      "5\n",
      "Portia\n",
      "6\n",
      "Portia\n",
      "7\n",
      "Portia\n",
      "8\n",
      "Portia\n",
      "9\n",
      "Portia\n",
      "10\n",
      "Portia\n"
     ]
    }
   ],
   "source": [
    "for a in range(1, 11):\n",
    "    print(a)\n",
    "    # action statements\n",
    "    print(\"Portia\")"
   ]
  },
  {
   "cell_type": "code",
   "execution_count": null,
   "id": "73c4b017-7e6c-4de7-b433-9236439b5392",
   "metadata": {},
   "outputs": [],
   "source": [
    "#range(start, end)\n",
    "start, start+1, start+2, ..., end-1\n",
    "\n",
    "#range(start, end, skip)\n",
    "start, start+skip, start+2skip, ..., end-1"
   ]
  },
  {
   "cell_type": "code",
   "execution_count": 59,
   "id": "55363356-3f2f-46c8-bb87-c56c039eb62a",
   "metadata": {},
   "outputs": [
    {
     "name": "stdout",
     "output_type": "stream",
     "text": [
      "1\n",
      "Portia\n",
      "3\n",
      "Portia\n",
      "5\n",
      "Portia\n",
      "7\n",
      "Portia\n",
      "9\n",
      "Portia\n"
     ]
    }
   ],
   "source": [
    "for a in range(1, 11, 2):\n",
    "    print(a)\n",
    "    # action statements\n",
    "    print(\"Portia\")"
   ]
  },
  {
   "cell_type": "markdown",
   "id": "fe6dddac-2f79-4508-9ba1-90f048ee379e",
   "metadata": {},
   "source": [
    "**Question: Write a Python Program to print the even numbers and odd numbers between 1 and the age of a client**"
   ]
  },
  {
   "cell_type": "code",
   "execution_count": 60,
   "id": "8b1c07ed-f9f1-446b-83eb-a9d6c7350469",
   "metadata": {},
   "outputs": [
    {
     "name": "stdin",
     "output_type": "stream",
     "text": [
      "What is your age? 60\n"
     ]
    }
   ],
   "source": [
    "age = input('What is your age?')\n",
    "age = int(age)"
   ]
  },
  {
   "cell_type": "code",
   "execution_count": 61,
   "id": "74d84e4c-0730-40b1-8eaf-f107292319bc",
   "metadata": {},
   "outputs": [
    {
     "data": {
      "text/plain": [
       "60"
      ]
     },
     "execution_count": 61,
     "metadata": {},
     "output_type": "execute_result"
    }
   ],
   "source": [
    "age"
   ]
  },
  {
   "cell_type": "code",
   "execution_count": 66,
   "id": "ed51af4c-1fed-4ce8-87a9-bd450691a534",
   "metadata": {},
   "outputs": [
    {
     "name": "stdout",
     "output_type": "stream",
     "text": [
      "2\n",
      "4\n",
      "6\n",
      "8\n",
      "10\n",
      "12\n",
      "14\n",
      "16\n",
      "18\n",
      "20\n",
      "22\n",
      "24\n",
      "26\n",
      "28\n",
      "30\n",
      "32\n",
      "34\n",
      "36\n",
      "38\n",
      "40\n",
      "42\n",
      "44\n",
      "46\n",
      "48\n",
      "50\n",
      "52\n",
      "54\n",
      "56\n",
      "58\n",
      "60\n"
     ]
    }
   ],
   "source": [
    "## Even Numbers\n",
    "for x in range(2, age+1, 2):\n",
    "    print(x)\n",
    "    "
   ]
  },
  {
   "cell_type": "code",
   "execution_count": 68,
   "id": "6e3c8b35-c82a-47cf-9ba9-b805d8a2bba5",
   "metadata": {},
   "outputs": [
    {
     "name": "stdout",
     "output_type": "stream",
     "text": [
      "1\n",
      "3\n",
      "5\n",
      "7\n",
      "9\n",
      "11\n",
      "13\n",
      "15\n",
      "17\n",
      "19\n",
      "21\n",
      "23\n",
      "25\n",
      "27\n",
      "29\n",
      "31\n",
      "33\n",
      "35\n",
      "37\n",
      "39\n",
      "41\n",
      "43\n",
      "45\n",
      "47\n",
      "49\n",
      "51\n",
      "53\n",
      "55\n",
      "57\n",
      "59\n"
     ]
    }
   ],
   "source": [
    "## Odd Numbers\n",
    "for x in range(1, age, 2):\n",
    "    print(x)"
   ]
  },
  {
   "cell_type": "code",
   "execution_count": 70,
   "id": "1e7ecb99-4c9c-4cc5-ac90-99fc71b98156",
   "metadata": {},
   "outputs": [],
   "source": [
    "fav_foods = [\"potato\", \"yam\", \"rice\", \"gelato\", \"sushi\"]"
   ]
  },
  {
   "cell_type": "code",
   "execution_count": 71,
   "id": "800827b7-a409-45a8-b854-b96885f6c049",
   "metadata": {},
   "outputs": [
    {
     "data": {
      "text/plain": [
       "list"
      ]
     },
     "execution_count": 71,
     "metadata": {},
     "output_type": "execute_result"
    }
   ],
   "source": [
    "type(fav_foods)"
   ]
  },
  {
   "cell_type": "code",
   "execution_count": 72,
   "id": "a1bd1efb-c41e-49ac-b428-efc8dd8b7863",
   "metadata": {},
   "outputs": [
    {
     "name": "stdout",
     "output_type": "stream",
     "text": [
      "potato\n",
      "yam\n",
      "rice\n",
      "gelato\n",
      "sushi\n"
     ]
    }
   ],
   "source": [
    "for x in fav_foods:\n",
    "    print(x)"
   ]
  },
  {
   "cell_type": "code",
   "execution_count": 73,
   "id": "661e1e7f-5491-4039-b5df-f2bc35a31757",
   "metadata": {},
   "outputs": [
    {
     "name": "stdout",
     "output_type": "stream",
     "text": [
      "I love potato\n",
      "I love yam\n",
      "I love rice\n",
      "I love gelato\n",
      "I love sushi\n"
     ]
    }
   ],
   "source": [
    "for x in fav_foods:\n",
    "    append_word = \"I love \" + x\n",
    "    print(append_word)"
   ]
  },
  {
   "cell_type": "code",
   "execution_count": 83,
   "id": "915b967e-5437-4eb1-8e52-46a421910806",
   "metadata": {},
   "outputs": [
    {
     "name": "stdout",
     "output_type": "stream",
     "text": [
      "I love potato\n",
      "I love gelato\n",
      "I love sushi\n"
     ]
    }
   ],
   "source": [
    "for x in fav_foods:\n",
    "    if len(x) >= 5:\n",
    "        appended_sent = \"I love \" + x\n",
    "        print(appended_sent)"
   ]
  },
  {
   "cell_type": "code",
   "execution_count": 74,
   "id": "1802eada-af23-42e6-b5ce-15bcf33968b0",
   "metadata": {},
   "outputs": [
    {
     "data": {
      "text/plain": [
       "4"
      ]
     },
     "execution_count": 74,
     "metadata": {},
     "output_type": "execute_result"
    }
   ],
   "source": [
    "len(\"Bayo\")"
   ]
  },
  {
   "cell_type": "code",
   "execution_count": 82,
   "id": "8b38ecd0-7311-47b0-abc1-c53b54140b18",
   "metadata": {},
   "outputs": [
    {
     "data": {
      "text/plain": [
       "False"
      ]
     },
     "execution_count": 82,
     "metadata": {},
     "output_type": "execute_result"
    }
   ],
   "source": [
    "len(\"rice\") > 5"
   ]
  },
  {
   "cell_type": "markdown",
   "id": "036d9279-c27f-4e6e-8e00-791b5c3492b8",
   "metadata": {},
   "source": [
    "Write a Python program to find those numbers which are divisible by 7 and multiple of 5, between 1500 and 2700 (both included)."
   ]
  },
  {
   "cell_type": "code",
   "execution_count": 98,
   "id": "13b4f2c3-9a56-4780-9f05-34bb72dd8611",
   "metadata": {},
   "outputs": [
    {
     "name": "stdout",
     "output_type": "stream",
     "text": [
      "1505\n",
      "1540\n",
      "1575\n",
      "1610\n",
      "1645\n",
      "1680\n",
      "1715\n",
      "1750\n",
      "1785\n",
      "1820\n",
      "1855\n",
      "1890\n",
      "1925\n",
      "1960\n",
      "1995\n",
      "2030\n",
      "2065\n",
      "2100\n",
      "2135\n",
      "2170\n",
      "2205\n",
      "2240\n",
      "2275\n",
      "2310\n",
      "2345\n",
      "2380\n",
      "2415\n",
      "2450\n",
      "2485\n",
      "2520\n",
      "2555\n",
      "2590\n",
      "2625\n",
      "2660\n",
      "2695\n"
     ]
    }
   ],
   "source": [
    "for num in range(1500, 2701):\n",
    "    if num % 7 == 0:\n",
    "        if num % 5 == 0:\n",
    "            print(num)"
   ]
  },
  {
   "cell_type": "code",
   "execution_count": 102,
   "id": "ee7d299f-468f-4ade-bfe3-011c29fa6a04",
   "metadata": {},
   "outputs": [
    {
     "name": "stdout",
     "output_type": "stream",
     "text": [
      "1505\n",
      "1540\n",
      "1575\n",
      "1610\n",
      "1645\n",
      "1680\n",
      "1715\n",
      "1750\n",
      "1785\n",
      "1820\n",
      "1855\n",
      "1890\n",
      "1925\n",
      "1960\n",
      "1995\n",
      "2030\n",
      "2065\n",
      "2100\n",
      "2135\n",
      "2170\n",
      "2205\n",
      "2240\n",
      "2275\n",
      "2310\n",
      "2345\n",
      "2380\n",
      "2415\n",
      "2450\n",
      "2485\n",
      "2520\n",
      "2555\n",
      "2590\n",
      "2625\n",
      "2660\n",
      "2695\n"
     ]
    }
   ],
   "source": [
    "for num in range(1500, 2701):\n",
    "    if (num % 7 == 0) and (num % 5 == 0):\n",
    "        print(num)"
   ]
  },
  {
   "cell_type": "code",
   "execution_count": 101,
   "id": "7d99ff54-e32d-4f93-82be-ff625edbba79",
   "metadata": {},
   "outputs": [
    {
     "data": {
      "text/plain": [
       "385.0"
      ]
     },
     "execution_count": 101,
     "metadata": {},
     "output_type": "execute_result"
    }
   ],
   "source": [
    "1925/5"
   ]
  },
  {
   "cell_type": "code",
   "execution_count": 93,
   "id": "f3a26fac-487f-43a8-82db-591a191c32ce",
   "metadata": {},
   "outputs": [
    {
     "data": {
      "text/plain": [
       "307.0"
      ]
     },
     "execution_count": 93,
     "metadata": {},
     "output_type": "execute_result"
    }
   ],
   "source": [
    "2149/7"
   ]
  },
  {
   "cell_type": "code",
   "execution_count": 94,
   "id": "a4597fa5-10c2-42d3-ac12-5a29f1ddc652",
   "metadata": {},
   "outputs": [
    {
     "data": {
      "text/plain": [
       "2149"
      ]
     },
     "execution_count": 94,
     "metadata": {},
     "output_type": "execute_result"
    }
   ],
   "source": [
    "307*7"
   ]
  },
  {
   "cell_type": "markdown",
   "id": "45b447e5-cf5a-452a-991e-8820dc52a45f",
   "metadata": {},
   "source": [
    "Write a Python program to count the number of even and odd numbers from a series of numbers.  "
   ]
  },
  {
   "cell_type": "code",
   "execution_count": 112,
   "id": "e3266fa5-2da8-4e4b-8978-832228db1990",
   "metadata": {},
   "outputs": [
    {
     "name": "stdout",
     "output_type": "stream",
     "text": [
      "The total even count is 4\n",
      "The total odd count is 5\n"
     ]
    }
   ],
   "source": [
    "numbers = (1, 2, 3, 4, 5, 6, 7, 8, 9) \n",
    "even_count = 0\n",
    "odd_count = 0 \n",
    "for each in numbers:\n",
    "    # Even number conditions and counting\n",
    "    if each % 2 == 0:\n",
    "        even_count = even_count + 1\n",
    "    # odd number conditions and counting\n",
    "    elif each % 2 != 0:\n",
    "        odd_count = odd_count + 1\n",
    "\n",
    "print(\"The total even count is\", even_count)\n",
    "print(\"The total odd count is\", odd_count)"
   ]
  },
  {
   "cell_type": "code",
   "execution_count": 109,
   "id": "c322edd1-5120-48d8-a14f-d044146f3811",
   "metadata": {},
   "outputs": [
    {
     "data": {
      "text/plain": [
       "True"
      ]
     },
     "execution_count": 109,
     "metadata": {},
     "output_type": "execute_result"
    }
   ],
   "source": [
    "(5 % 2) != 0"
   ]
  },
  {
   "cell_type": "code",
   "execution_count": null,
   "id": "69b08cae-a178-4e3b-94e3-3631c7bd3366",
   "metadata": {},
   "outputs": [],
   "source": []
  }
 ],
 "metadata": {
  "kernelspec": {
   "display_name": "Python [conda env:base] *",
   "language": "python",
   "name": "conda-base-py"
  },
  "language_info": {
   "codemirror_mode": {
    "name": "ipython",
    "version": 3
   },
   "file_extension": ".py",
   "mimetype": "text/x-python",
   "name": "python",
   "nbconvert_exporter": "python",
   "pygments_lexer": "ipython3",
   "version": "3.12.7"
  }
 },
 "nbformat": 4,
 "nbformat_minor": 5
}
